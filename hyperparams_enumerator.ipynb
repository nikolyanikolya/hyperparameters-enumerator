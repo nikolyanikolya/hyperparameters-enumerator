{
 "cells": [
  {
   "cell_type": "code",
   "execution_count": 1,
   "metadata": {},
   "outputs": [
    {
     "data": {
      "text/html": [
       "<div>\n",
       "<style scoped>\n",
       "    .dataframe tbody tr th:only-of-type {\n",
       "        vertical-align: middle;\n",
       "    }\n",
       "\n",
       "    .dataframe tbody tr th {\n",
       "        vertical-align: top;\n",
       "    }\n",
       "\n",
       "    .dataframe thead th {\n",
       "        text-align: right;\n",
       "    }\n",
       "</style>\n",
       "<table border=\"1\" class=\"dataframe\">\n",
       "  <thead>\n",
       "    <tr style=\"text-align: right;\">\n",
       "      <th></th>\n",
       "      <th>Open</th>\n",
       "      <th>High</th>\n",
       "      <th>Low</th>\n",
       "      <th>Close</th>\n",
       "      <th>Volume</th>\n",
       "      <th>Adj Close</th>\n",
       "      <th>Date</th>\n",
       "      <th>before2017</th>\n",
       "      <th>between2017and2019</th>\n",
       "      <th>after2019</th>\n",
       "    </tr>\n",
       "  </thead>\n",
       "  <tbody>\n",
       "    <tr>\n",
       "      <th>0</th>\n",
       "      <td>113.320000</td>\n",
       "      <td>114.589996</td>\n",
       "      <td>112.949997</td>\n",
       "      <td>113</td>\n",
       "      <td>21351800</td>\n",
       "      <td>113.690002</td>\n",
       "      <td>2016-03-28</td>\n",
       "      <td>1</td>\n",
       "      <td>0</td>\n",
       "      <td>0</td>\n",
       "    </tr>\n",
       "    <tr>\n",
       "      <th>1</th>\n",
       "      <td>113.830002</td>\n",
       "      <td>116.320000</td>\n",
       "      <td>113.639999</td>\n",
       "      <td>116</td>\n",
       "      <td>29825300</td>\n",
       "      <td>116.139999</td>\n",
       "      <td>2016-03-29</td>\n",
       "      <td>1</td>\n",
       "      <td>0</td>\n",
       "      <td>0</td>\n",
       "    </tr>\n",
       "    <tr>\n",
       "      <th>2</th>\n",
       "      <td>116.730003</td>\n",
       "      <td>116.989998</td>\n",
       "      <td>114.360001</td>\n",
       "      <td>114</td>\n",
       "      <td>33235200</td>\n",
       "      <td>114.699997</td>\n",
       "      <td>2016-03-30</td>\n",
       "      <td>1</td>\n",
       "      <td>0</td>\n",
       "      <td>0</td>\n",
       "    </tr>\n",
       "    <tr>\n",
       "      <th>3</th>\n",
       "      <td>114.699997</td>\n",
       "      <td>115.010002</td>\n",
       "      <td>113.769997</td>\n",
       "      <td>114</td>\n",
       "      <td>21207500</td>\n",
       "      <td>114.099998</td>\n",
       "      <td>2016-03-31</td>\n",
       "      <td>1</td>\n",
       "      <td>0</td>\n",
       "      <td>0</td>\n",
       "    </tr>\n",
       "    <tr>\n",
       "      <th>4</th>\n",
       "      <td>113.750000</td>\n",
       "      <td>116.169998</td>\n",
       "      <td>113.349998</td>\n",
       "      <td>116</td>\n",
       "      <td>24760500</td>\n",
       "      <td>116.059998</td>\n",
       "      <td>2016-04-01</td>\n",
       "      <td>1</td>\n",
       "      <td>0</td>\n",
       "      <td>0</td>\n",
       "    </tr>\n",
       "    <tr>\n",
       "      <th>...</th>\n",
       "      <td>...</td>\n",
       "      <td>...</td>\n",
       "      <td>...</td>\n",
       "      <td>...</td>\n",
       "      <td>...</td>\n",
       "      <td>...</td>\n",
       "      <td>...</td>\n",
       "      <td>...</td>\n",
       "      <td>...</td>\n",
       "      <td>...</td>\n",
       "    </tr>\n",
       "    <tr>\n",
       "      <th>1255</th>\n",
       "      <td>290.450012</td>\n",
       "      <td>299.709991</td>\n",
       "      <td>286.750000</td>\n",
       "      <td>293</td>\n",
       "      <td>28273100</td>\n",
       "      <td>293.540009</td>\n",
       "      <td>2021-03-22</td>\n",
       "      <td>0</td>\n",
       "      <td>0</td>\n",
       "      <td>1</td>\n",
       "    </tr>\n",
       "    <tr>\n",
       "      <th>1256</th>\n",
       "      <td>293.149994</td>\n",
       "      <td>298.000000</td>\n",
       "      <td>289.809998</td>\n",
       "      <td>290</td>\n",
       "      <td>23000900</td>\n",
       "      <td>290.630005</td>\n",
       "      <td>2021-03-23</td>\n",
       "      <td>0</td>\n",
       "      <td>0</td>\n",
       "      <td>1</td>\n",
       "    </tr>\n",
       "    <tr>\n",
       "      <th>1257</th>\n",
       "      <td>291.000000</td>\n",
       "      <td>291.720001</td>\n",
       "      <td>281.160004</td>\n",
       "      <td>282</td>\n",
       "      <td>18675000</td>\n",
       "      <td>282.140015</td>\n",
       "      <td>2021-03-24</td>\n",
       "      <td>0</td>\n",
       "      <td>0</td>\n",
       "      <td>1</td>\n",
       "    </tr>\n",
       "    <tr>\n",
       "      <th>1258</th>\n",
       "      <td>280.980011</td>\n",
       "      <td>288.059998</td>\n",
       "      <td>277.750000</td>\n",
       "      <td>278</td>\n",
       "      <td>24505600</td>\n",
       "      <td>278.739990</td>\n",
       "      <td>2021-03-25</td>\n",
       "      <td>0</td>\n",
       "      <td>0</td>\n",
       "      <td>1</td>\n",
       "    </tr>\n",
       "    <tr>\n",
       "      <th>1259</th>\n",
       "      <td>278.299988</td>\n",
       "      <td>284.500000</td>\n",
       "      <td>277.769989</td>\n",
       "      <td>283</td>\n",
       "      <td>17620600</td>\n",
       "      <td>283.019989</td>\n",
       "      <td>2021-03-26</td>\n",
       "      <td>0</td>\n",
       "      <td>0</td>\n",
       "      <td>1</td>\n",
       "    </tr>\n",
       "  </tbody>\n",
       "</table>\n",
       "<p>1260 rows × 10 columns</p>\n",
       "</div>"
      ],
      "text/plain": [
       "            Open        High         Low  Close    Volume   Adj Close  \\\n",
       "0     113.320000  114.589996  112.949997    113  21351800  113.690002   \n",
       "1     113.830002  116.320000  113.639999    116  29825300  116.139999   \n",
       "2     116.730003  116.989998  114.360001    114  33235200  114.699997   \n",
       "3     114.699997  115.010002  113.769997    114  21207500  114.099998   \n",
       "4     113.750000  116.169998  113.349998    116  24760500  116.059998   \n",
       "...          ...         ...         ...    ...       ...         ...   \n",
       "1255  290.450012  299.709991  286.750000    293  28273100  293.540009   \n",
       "1256  293.149994  298.000000  289.809998    290  23000900  290.630005   \n",
       "1257  291.000000  291.720001  281.160004    282  18675000  282.140015   \n",
       "1258  280.980011  288.059998  277.750000    278  24505600  278.739990   \n",
       "1259  278.299988  284.500000  277.769989    283  17620600  283.019989   \n",
       "\n",
       "            Date  before2017  between2017and2019  after2019  \n",
       "0     2016-03-28           1                   0          0  \n",
       "1     2016-03-29           1                   0          0  \n",
       "2     2016-03-30           1                   0          0  \n",
       "3     2016-03-31           1                   0          0  \n",
       "4     2016-04-01           1                   0          0  \n",
       "...          ...         ...                 ...        ...  \n",
       "1255  2021-03-22           0                   0          1  \n",
       "1256  2021-03-23           0                   0          1  \n",
       "1257  2021-03-24           0                   0          1  \n",
       "1258  2021-03-25           0                   0          1  \n",
       "1259  2021-03-26           0                   0          1  \n",
       "\n",
       "[1260 rows x 10 columns]"
      ]
     },
     "execution_count": 1,
     "metadata": {},
     "output_type": "execute_result"
    }
   ],
   "source": [
    "import pandas as pd\n",
    "import numpy as np\n",
    "from datetime import datetime\n",
    "\n",
    "df = pd.read_csv(\"Facebook.csv\")[[\"Open\", \"High\", \"Low\", \"Close\", \"Volume\", \"Adj Close\", \"Date\"]]\n",
    "df[\"Close\"] = df[\"Close\"].astype(np.int64)\n",
    "date2017 = datetime(2017, 1, 1)\n",
    "date2019 = datetime(2019, 1, 1)\n",
    "\n",
    "df = df.assign(\n",
    "    before2017 = pd.Series(data = [int(datetime.strptime(date, '%Y-%m-%d') < date2017) for date in df.Date]) ,\n",
    "    between2017and2019 = pd.Series(data = [int((datetime.strptime(date, '%Y-%m-%d') > date2017) & (datetime.strptime(date, '%Y-%m-%d') <= date2019)) for date in df.Date]),\n",
    "    after2019 = pd.Series(data = [int((datetime.strptime(date, '%Y-%m-%d') > date2019)) for date in df.Date]),\n",
    ")\n",
    "df"
   ]
  },
  {
   "cell_type": "code",
   "execution_count": 2,
   "metadata": {},
   "outputs": [
    {
     "data": {
      "text/plain": [
       "<matplotlib.collections.PathCollection at 0x220e6886ec0>"
      ]
     },
     "execution_count": 2,
     "metadata": {},
     "output_type": "execute_result"
    },
    {
     "data": {
      "image/png": "[encoded data removed]",
      "text/plain": [
       "<Figure size 640x480 with 1 Axes>"
      ]
     },
     "metadata": {},
     "output_type": "display_data"
    }
   ],
   "source": [
    "import matplotlib.pyplot as plt\n",
    "\n",
    "plt.scatter(df[\"Low\"], df[\"Close\"])"
   ]
  },
  {
   "cell_type": "code",
   "execution_count": 3,
   "metadata": {},
   "outputs": [
    {
     "data": {
      "text/plain": [
       "<matplotlib.collections.PathCollection at 0x220d58725c0>"
      ]
     },
     "execution_count": 3,
     "metadata": {},
     "output_type": "execute_result"
    },
    {
     "data": {
      "image/png": "[encoded data removed]",
      "text/plain": [
       "<Figure size 640x480 with 1 Axes>"
      ]
     },
     "metadata": {},
     "output_type": "display_data"
    }
   ],
   "source": [
    "plt.scatter(df[\"High\"], df[\"Close\"])"
   ]
  },
  {
   "cell_type": "code",
   "execution_count": 4,
   "metadata": {},
   "outputs": [
    {
     "data": {
      "text/plain": [
       "<matplotlib.collections.PathCollection at 0x220e694b040>"
      ]
     },
     "execution_count": 4,
     "metadata": {},
     "output_type": "execute_result"
    },
    {
     "data": {
      "image/png": "[encoded data removed]",
      "text/plain": [
       "<Figure size 640x480 with 1 Axes>"
      ]
     },
     "metadata": {},
     "output_type": "display_data"
    }
   ],
   "source": [
    "plt.scatter(df[\"Open\"], df[\"Close\"])"
   ]
  },
  {
   "cell_type": "code",
   "execution_count": 5,
   "metadata": {},
   "outputs": [
    {
     "data": {
      "text/plain": [
       "Open                  False\n",
       "High                  False\n",
       "Low                   False\n",
       "Close                 False\n",
       "Volume                False\n",
       "Adj Close             False\n",
       "Date                  False\n",
       "before2017            False\n",
       "between2017and2019    False\n",
       "after2019             False\n",
       "dtype: bool"
      ]
     },
     "execution_count": 5,
     "metadata": {},
     "output_type": "execute_result"
    }
   ],
   "source": [
    "\n",
    "df.isna().any()"
   ]
  },
  {
   "cell_type": "code",
   "execution_count": 6,
   "metadata": {},
   "outputs": [
    {
     "data": {
      "text/plain": [
       "Open                  float64\n",
       "High                  float64\n",
       "Low                   float64\n",
       "Close                   int64\n",
       "Volume                  int64\n",
       "Adj Close             float64\n",
       "Date                   object\n",
       "before2017              int64\n",
       "between2017and2019      int64\n",
       "after2019               int64\n",
       "dtype: object"
      ]
     },
     "execution_count": 6,
     "metadata": {},
     "output_type": "execute_result"
    }
   ],
   "source": [
    "df.dtypes"
   ]
  },
  {
   "cell_type": "code",
   "execution_count": 7,
   "metadata": {},
   "outputs": [
    {
     "data": {
      "text/html": [
       "<div>\n",
       "<style scoped>\n",
       "    .dataframe tbody tr th:only-of-type {\n",
       "        vertical-align: middle;\n",
       "    }\n",
       "\n",
       "    .dataframe tbody tr th {\n",
       "        vertical-align: top;\n",
       "    }\n",
       "\n",
       "    .dataframe thead th {\n",
       "        text-align: right;\n",
       "    }\n",
       "</style>\n",
       "<table border=\"1\" class=\"dataframe\">\n",
       "  <thead>\n",
       "    <tr style=\"text-align: right;\">\n",
       "      <th></th>\n",
       "      <th>Open</th>\n",
       "      <th>High</th>\n",
       "      <th>Low</th>\n",
       "      <th>Close</th>\n",
       "      <th>Volume</th>\n",
       "      <th>Adj Close</th>\n",
       "      <th>Date</th>\n",
       "      <th>before2017</th>\n",
       "      <th>between2017and2019</th>\n",
       "      <th>after2019</th>\n",
       "    </tr>\n",
       "  </thead>\n",
       "  <tbody>\n",
       "    <tr>\n",
       "      <th>0</th>\n",
       "      <td>0.027989</td>\n",
       "      <td>0.028866</td>\n",
       "      <td>0.035557</td>\n",
       "      <td>113</td>\n",
       "      <td>0.093464</td>\n",
       "      <td>0.025263</td>\n",
       "      <td>2016-03-28</td>\n",
       "      <td>1.0</td>\n",
       "      <td>0.0</td>\n",
       "      <td>0.0</td>\n",
       "    </tr>\n",
       "    <tr>\n",
       "      <th>1</th>\n",
       "      <td>0.030642</td>\n",
       "      <td>0.037705</td>\n",
       "      <td>0.039252</td>\n",
       "      <td>116</td>\n",
       "      <td>0.145209</td>\n",
       "      <td>0.037817</td>\n",
       "      <td>2016-03-29</td>\n",
       "      <td>1.0</td>\n",
       "      <td>0.0</td>\n",
       "      <td>0.0</td>\n",
       "    </tr>\n",
       "    <tr>\n",
       "      <th>2</th>\n",
       "      <td>0.045729</td>\n",
       "      <td>0.041128</td>\n",
       "      <td>0.043108</td>\n",
       "      <td>114</td>\n",
       "      <td>0.166032</td>\n",
       "      <td>0.030438</td>\n",
       "      <td>2016-03-30</td>\n",
       "      <td>1.0</td>\n",
       "      <td>0.0</td>\n",
       "      <td>0.0</td>\n",
       "    </tr>\n",
       "    <tr>\n",
       "      <th>3</th>\n",
       "      <td>0.035168</td>\n",
       "      <td>0.031012</td>\n",
       "      <td>0.039949</td>\n",
       "      <td>114</td>\n",
       "      <td>0.092583</td>\n",
       "      <td>0.027364</td>\n",
       "      <td>2016-03-31</td>\n",
       "      <td>1.0</td>\n",
       "      <td>0.0</td>\n",
       "      <td>0.0</td>\n",
       "    </tr>\n",
       "    <tr>\n",
       "      <th>4</th>\n",
       "      <td>0.030226</td>\n",
       "      <td>0.036939</td>\n",
       "      <td>0.037699</td>\n",
       "      <td>116</td>\n",
       "      <td>0.114280</td>\n",
       "      <td>0.037407</td>\n",
       "      <td>2016-04-01</td>\n",
       "      <td>1.0</td>\n",
       "      <td>0.0</td>\n",
       "      <td>0.0</td>\n",
       "    </tr>\n",
       "    <tr>\n",
       "      <th>...</th>\n",
       "      <td>...</td>\n",
       "      <td>...</td>\n",
       "      <td>...</td>\n",
       "      <td>...</td>\n",
       "      <td>...</td>\n",
       "      <td>...</td>\n",
       "      <td>...</td>\n",
       "      <td>...</td>\n",
       "      <td>...</td>\n",
       "      <td>...</td>\n",
       "    </tr>\n",
       "    <tr>\n",
       "      <th>1255</th>\n",
       "      <td>0.949485</td>\n",
       "      <td>0.974659</td>\n",
       "      <td>0.966263</td>\n",
       "      <td>293</td>\n",
       "      <td>0.135730</td>\n",
       "      <td>0.946861</td>\n",
       "      <td>2021-03-22</td>\n",
       "      <td>0.0</td>\n",
       "      <td>0.0</td>\n",
       "      <td>1.0</td>\n",
       "    </tr>\n",
       "    <tr>\n",
       "      <th>1256</th>\n",
       "      <td>0.963531</td>\n",
       "      <td>0.965922</td>\n",
       "      <td>0.982650</td>\n",
       "      <td>290</td>\n",
       "      <td>0.103535</td>\n",
       "      <td>0.931950</td>\n",
       "      <td>2021-03-23</td>\n",
       "      <td>0.0</td>\n",
       "      <td>0.0</td>\n",
       "      <td>1.0</td>\n",
       "    </tr>\n",
       "    <tr>\n",
       "      <th>1257</th>\n",
       "      <td>0.952346</td>\n",
       "      <td>0.933837</td>\n",
       "      <td>0.936329</td>\n",
       "      <td>282</td>\n",
       "      <td>0.077118</td>\n",
       "      <td>0.888445</td>\n",
       "      <td>2021-03-24</td>\n",
       "      <td>0.0</td>\n",
       "      <td>0.0</td>\n",
       "      <td>1.0</td>\n",
       "    </tr>\n",
       "    <tr>\n",
       "      <th>1258</th>\n",
       "      <td>0.900219</td>\n",
       "      <td>0.915138</td>\n",
       "      <td>0.918068</td>\n",
       "      <td>278</td>\n",
       "      <td>0.112723</td>\n",
       "      <td>0.871022</td>\n",
       "      <td>2021-03-25</td>\n",
       "      <td>0.0</td>\n",
       "      <td>0.0</td>\n",
       "      <td>1.0</td>\n",
       "    </tr>\n",
       "    <tr>\n",
       "      <th>1259</th>\n",
       "      <td>0.886276</td>\n",
       "      <td>0.896950</td>\n",
       "      <td>0.918175</td>\n",
       "      <td>283</td>\n",
       "      <td>0.070680</td>\n",
       "      <td>0.892954</td>\n",
       "      <td>2021-03-26</td>\n",
       "      <td>0.0</td>\n",
       "      <td>0.0</td>\n",
       "      <td>1.0</td>\n",
       "    </tr>\n",
       "  </tbody>\n",
       "</table>\n",
       "<p>1260 rows × 10 columns</p>\n",
       "</div>"
      ],
      "text/plain": [
       "          Open      High       Low  Close    Volume  Adj Close        Date  \\\n",
       "0     0.027989  0.028866  0.035557    113  0.093464   0.025263  2016-03-28   \n",
       "1     0.030642  0.037705  0.039252    116  0.145209   0.037817  2016-03-29   \n",
       "2     0.045729  0.041128  0.043108    114  0.166032   0.030438  2016-03-30   \n",
       "3     0.035168  0.031012  0.039949    114  0.092583   0.027364  2016-03-31   \n",
       "4     0.030226  0.036939  0.037699    116  0.114280   0.037407  2016-04-01   \n",
       "...        ...       ...       ...    ...       ...        ...         ...   \n",
       "1255  0.949485  0.974659  0.966263    293  0.135730   0.946861  2021-03-22   \n",
       "1256  0.963531  0.965922  0.982650    290  0.103535   0.931950  2021-03-23   \n",
       "1257  0.952346  0.933837  0.936329    282  0.077118   0.888445  2021-03-24   \n",
       "1258  0.900219  0.915138  0.918068    278  0.112723   0.871022  2021-03-25   \n",
       "1259  0.886276  0.896950  0.918175    283  0.070680   0.892954  2021-03-26   \n",
       "\n",
       "      before2017  between2017and2019  after2019  \n",
       "0            1.0                 0.0        0.0  \n",
       "1            1.0                 0.0        0.0  \n",
       "2            1.0                 0.0        0.0  \n",
       "3            1.0                 0.0        0.0  \n",
       "4            1.0                 0.0        0.0  \n",
       "...          ...                 ...        ...  \n",
       "1255         0.0                 0.0        1.0  \n",
       "1256         0.0                 0.0        1.0  \n",
       "1257         0.0                 0.0        1.0  \n",
       "1258         0.0                 0.0        1.0  \n",
       "1259         0.0                 0.0        1.0  \n",
       "\n",
       "[1260 rows x 10 columns]"
      ]
     },
     "execution_count": 7,
     "metadata": {},
     "output_type": "execute_result"
    }
   ],
   "source": [
    "independent_vars_set = [\"High\", \"Low\", \"Volume\", \"Adj Close\", \"Open\", \"before2017\", \"between2017and2019\", \"after2019\"]\n",
    "\n",
    "def normalize(df):\n",
    "    return (df - df.min()) / (df.max() - df.min())\n",
    "\n",
    "df[independent_vars_set] = normalize(df[independent_vars_set])\n",
    "df"
   ]
  },
  {
   "cell_type": "code",
   "execution_count": 20,
   "metadata": {},
   "outputs": [
    {
     "data": {
      "text/plain": [
       "(252, 8)"
      ]
     },
     "execution_count": 20,
     "metadata": {},
     "output_type": "execute_result"
    }
   ],
   "source": [
    "from sklearn.naive_bayes import MultinomialNB\n",
    "\n",
    "dimension = len(independent_vars_set)\n",
    "\n",
    "def split_between_x_y(df_local):\n",
    "    return np.array(df_local[independent_vars_set]).reshape(-1, dimension), np.array(df_local[\"Close\"])\n",
    "\n",
    "train, validate, test = \\\n",
    "              np.split(df.sample(frac=1, random_state=42), \n",
    "                       [int(.6*len(df)), int(.8*len(df))])\n",
    "\n",
    "train_x, train_y = split_between_x_y(train)\n",
    "valid_x, valid_y = split_between_x_y(validate)\n",
    "test_x, test_y = split_between_x_y(test)\n",
    "\n",
    "test_x.shape"
   ]
  },
  {
   "cell_type": "code",
   "execution_count": 9,
   "metadata": {
    "collapsed": false,
    "pycharm": {
     "name": "#%%\n"
    }
   },
   "outputs": [
    {
     "name": "stderr",
     "output_type": "stream",
     "text": [
      "\u001b[32m[I 2023-05-22 12:26:49,415]\u001b[0m A new study created in memory with name: no-name-62a89c4a-ac58-4637-936d-48b2aeb7a54c\u001b[0m\n",
      "\u001b[32m[I 2023-05-22 12:26:49,452]\u001b[0m Trial 0 finished with value: 0.20238095238095238 and parameters: {'model_type': 4, 'criterion_trees': 'entropy', 'max_depth_trees': 6, 'min_samples_split_trees': 20, 'min_samples_leaf_trees': 11, 'suggest_categorical': 'log2'}. Best is trial 0 with value: 0.20238095238095238.\u001b[0m\n",
      "\u001b[32m[I 2023-05-22 12:26:49,630]\u001b[0m Trial 1 finished with value: 0.1746031746031746 and parameters: {'model_type': 1, 'k_neighbours': 269, 'dist_neighbours': 'minkowski', 'weights_neighbours': 'distance', 'algorithm_neighbours': 'brute'}. Best is trial 1 with value: 0.1746031746031746.\u001b[0m\n",
      "\u001b[32m[I 2023-05-22 12:26:49,644]\u001b[0m Trial 2 finished with value: 0.17857142857142858 and parameters: {'model_type': 4, 'criterion_trees': 'entropy', 'max_depth_trees': 9, 'min_samples_split_trees': 18, 'min_samples_leaf_trees': 9, 'suggest_categorical': 'sqrt'}. Best is trial 1 with value: 0.1746031746031746.\u001b[0m\n",
      "\u001b[32m[I 2023-05-22 12:26:49,661]\u001b[0m Trial 3 finished with value: 0.999959479372073 and parameters: {'model_type': 5, 'n_jobs': 11}. Best is trial 1 with value: 0.1746031746031746.\u001b[0m\n",
      "\u001b[32m[I 2023-05-22 12:26:49,929]\u001b[0m Trial 4 finished with value: 0.04365079365079365 and parameters: {'model_type': 2, 'c_svm': 0.8125141622210016, 'kernel_svm': 'rbf', 'gamma_svm': 'scale', 'degree_svm': 4}. Best is trial 4 with value: 0.04365079365079365.\u001b[0m\n",
      "\u001b[32m[I 2023-05-22 12:26:49,933]\u001b[0m Trial 5 finished with value: 0.999959479372073 and parameters: {'model_type': 5, 'n_jobs': 2}. Best is trial 4 with value: 0.04365079365079365.\u001b[0m\n",
      "\u001b[32m[I 2023-05-22 12:26:49,938]\u001b[0m Trial 6 finished with value: 0.999959479372073 and parameters: {'model_type': 5, 'n_jobs': 2}. Best is trial 4 with value: 0.04365079365079365.\u001b[0m\n",
      "\u001b[32m[I 2023-05-22 12:26:49,943]\u001b[0m Trial 7 finished with value: 0.03571428571428571 and parameters: {'model_type': 3, 'alpha_bayes': 0.8766942053191413}. Best is trial 7 with value: 0.03571428571428571.\u001b[0m\n",
      "\u001b[32m[I 2023-05-22 12:26:49,951]\u001b[0m Trial 8 finished with value: 0.21428571428571427 and parameters: {'model_type': 4, 'criterion_trees': 'gini', 'max_depth_trees': 8, 'min_samples_split_trees': 10, 'min_samples_leaf_trees': 10, 'suggest_categorical': 'sqrt'}. Best is trial 7 with value: 0.03571428571428571.\u001b[0m\n",
      "\u001b[32m[I 2023-05-22 12:26:50,015]\u001b[0m Trial 9 finished with value: 0.1746031746031746 and parameters: {'model_type': 1, 'k_neighbours': 289, 'dist_neighbours': 'euclidean', 'weights_neighbours': 'distance', 'algorithm_neighbours': 'ball_tree'}. Best is trial 7 with value: 0.03571428571428571.\u001b[0m\n",
      "\u001b[32m[I 2023-05-22 12:26:50,029]\u001b[0m Trial 10 finished with value: 0.03571428571428571 and parameters: {'model_type': 3, 'alpha_bayes': 0.9447850585181498}. Best is trial 7 with value: 0.03571428571428571.\u001b[0m\n",
      "\u001b[32m[I 2023-05-22 12:26:50,043]\u001b[0m Trial 11 finished with value: 0.03571428571428571 and parameters: {'model_type': 3, 'alpha_bayes': 0.9587110507647165}. Best is trial 7 with value: 0.03571428571428571.\u001b[0m\n",
      "\u001b[32m[I 2023-05-22 12:26:50,060]\u001b[0m Trial 12 finished with value: 0.03571428571428571 and parameters: {'model_type': 3, 'alpha_bayes': 0.9205688986529345}. Best is trial 7 with value: 0.03571428571428571.\u001b[0m\n",
      "\u001b[32m[I 2023-05-22 12:26:50,344]\u001b[0m Trial 13 finished with value: 0.023809523809523808 and parameters: {'model_type': 2, 'c_svm': 0.9994816376876412, 'kernel_svm': 'poly', 'gamma_svm': 'auto', 'degree_svm': 1}. Best is trial 13 with value: 0.023809523809523808.\u001b[0m\n",
      "\u001b[32m[I 2023-05-22 12:26:50,772]\u001b[0m Trial 14 finished with value: 0.023809523809523808 and parameters: {'model_type': 2, 'c_svm': 0.9980252283561178, 'kernel_svm': 'poly', 'gamma_svm': 'auto', 'degree_svm': 1}. Best is trial 13 with value: 0.023809523809523808.\u001b[0m\n",
      "\u001b[32m[I 2023-05-22 12:26:50,979]\u001b[0m Trial 15 finished with value: 0.023809523809523808 and parameters: {'model_type': 2, 'c_svm': 0.996613984112892, 'kernel_svm': 'poly', 'gamma_svm': 'auto', 'degree_svm': 1}. Best is trial 13 with value: 0.023809523809523808.\u001b[0m\n",
      "\u001b[32m[I 2023-05-22 12:26:51,205]\u001b[0m Trial 16 finished with value: 0.023809523809523808 and parameters: {'model_type': 2, 'c_svm': 0.9932759724411462, 'kernel_svm': 'poly', 'gamma_svm': 'auto', 'degree_svm': 1}. Best is trial 13 with value: 0.023809523809523808.\u001b[0m\n",
      "\u001b[32m[I 2023-05-22 12:26:51,458]\u001b[0m Trial 17 finished with value: 0.051587301587301584 and parameters: {'model_type': 2, 'c_svm': 0.9411203772310492, 'kernel_svm': 'linear', 'gamma_svm': 'auto', 'degree_svm': 2}. Best is trial 13 with value: 0.023809523809523808.\u001b[0m\n",
      "\u001b[32m[I 2023-05-22 12:26:51,488]\u001b[0m Trial 18 finished with value: 0.15079365079365079 and parameters: {'model_type': 1, 'k_neighbours': 15, 'dist_neighbours': 'manhattan', 'weights_neighbours': 'uniform', 'algorithm_neighbours': 'auto'}. Best is trial 13 with value: 0.023809523809523808.\u001b[0m\n",
      "\u001b[32m[I 2023-05-22 12:26:52,072]\u001b[0m Trial 19 finished with value: 0.023809523809523808 and parameters: {'model_type': 2, 'c_svm': 0.8932761158686339, 'kernel_svm': 'sigmoid', 'gamma_svm': 'auto', 'degree_svm': 3}. Best is trial 13 with value: 0.023809523809523808.\u001b[0m\n",
      "\u001b[32m[I 2023-05-22 12:26:52,150]\u001b[0m Trial 20 finished with value: 0.023809523809523808 and parameters: {'model_type': 1, 'k_neighbours': 399, 'dist_neighbours': 'manhattan', 'weights_neighbours': 'uniform', 'algorithm_neighbours': 'kd_tree'}. Best is trial 13 with value: 0.023809523809523808.\u001b[0m\n",
      "\u001b[32m[I 2023-05-22 12:26:52,389]\u001b[0m Trial 21 finished with value: 0.023809523809523808 and parameters: {'model_type': 2, 'c_svm': 0.992955682526478, 'kernel_svm': 'poly', 'gamma_svm': 'auto', 'degree_svm': 1}. Best is trial 13 with value: 0.023809523809523808.\u001b[0m\n",
      "\u001b[32m[I 2023-05-22 12:26:52,628]\u001b[0m Trial 22 finished with value: 0.023809523809523808 and parameters: {'model_type': 2, 'c_svm': 0.997568929454149, 'kernel_svm': 'poly', 'gamma_svm': 'auto', 'degree_svm': 1}. Best is trial 13 with value: 0.023809523809523808.\u001b[0m\n",
      "\u001b[32m[I 2023-05-22 12:26:52,958]\u001b[0m Trial 23 finished with value: 0.003968253968253968 and parameters: {'model_type': 2, 'c_svm': 0.907975839583622, 'kernel_svm': 'poly', 'gamma_svm': 'auto', 'degree_svm': 2}. Best is trial 23 with value: 0.003968253968253968.\u001b[0m\n",
      "\u001b[32m[I 2023-05-22 12:26:52,978]\u001b[0m Trial 24 finished with value: 0.03968253968253968 and parameters: {'model_type': 3, 'alpha_bayes': 0.1348606777739041}. Best is trial 23 with value: 0.003968253968253968.\u001b[0m\n",
      "\u001b[32m[I 2023-05-22 12:26:53,015]\u001b[0m Trial 25 finished with value: 0.21031746031746032 and parameters: {'model_type': 1, 'k_neighbours': 5, 'dist_neighbours': 'euclidean', 'weights_neighbours': 'uniform', 'algorithm_neighbours': 'kd_tree'}. Best is trial 23 with value: 0.003968253968253968.\u001b[0m\n",
      "\u001b[32m[I 2023-05-22 12:26:53,524]\u001b[0m Trial 26 finished with value: 0.051587301587301584 and parameters: {'model_type': 2, 'c_svm': 0.9058014485396619, 'kernel_svm': 'poly', 'gamma_svm': 'scale', 'degree_svm': 2}. Best is trial 23 with value: 0.003968253968253968.\u001b[0m\n",
      "\u001b[32m[I 2023-05-22 12:26:53,565]\u001b[0m Trial 27 finished with value: 0.03968253968253968 and parameters: {'model_type': 3, 'alpha_bayes': 0.5107709314480302}. Best is trial 23 with value: 0.003968253968253968.\u001b[0m\n",
      "\u001b[32m[I 2023-05-22 12:26:53,928]\u001b[0m Trial 28 finished with value: 0.003968253968253968 and parameters: {'model_type': 2, 'c_svm': 0.70471186185012, 'kernel_svm': 'poly', 'gamma_svm': 'auto', 'degree_svm': 2}. Best is trial 23 with value: 0.003968253968253968.\u001b[0m\n",
      "\u001b[32m[I 2023-05-22 12:26:53,988]\u001b[0m Trial 29 finished with value: 0.17063492063492064 and parameters: {'model_type': 1, 'k_neighbours': 125, 'dist_neighbours': 'minkowski', 'weights_neighbours': 'distance', 'algorithm_neighbours': 'auto'}. Best is trial 23 with value: 0.003968253968253968.\u001b[0m\n",
      "\u001b[32m[I 2023-05-22 12:26:54,022]\u001b[0m Trial 30 finished with value: 0.03968253968253968 and parameters: {'model_type': 3, 'alpha_bayes': 0.12575960957354537}. Best is trial 23 with value: 0.003968253968253968.\u001b[0m\n",
      "\u001b[32m[I 2023-05-22 12:26:54,477]\u001b[0m Trial 31 finished with value: 0.003968253968253968 and parameters: {'model_type': 2, 'c_svm': 0.7240545630546603, 'kernel_svm': 'poly', 'gamma_svm': 'auto', 'degree_svm': 2}. Best is trial 23 with value: 0.003968253968253968.\u001b[0m\n",
      "\u001b[32m[I 2023-05-22 12:26:54,828]\u001b[0m Trial 32 finished with value: 0.003968253968253968 and parameters: {'model_type': 2, 'c_svm': 0.705132945695738, 'kernel_svm': 'poly', 'gamma_svm': 'auto', 'degree_svm': 2}. Best is trial 23 with value: 0.003968253968253968.\u001b[0m\n",
      "\u001b[32m[I 2023-05-22 12:26:54,956]\u001b[0m Trial 33 finished with value: 0.17063492063492064 and parameters: {'model_type': 1, 'k_neighbours': 175, 'dist_neighbours': 'minkowski', 'weights_neighbours': 'distance', 'algorithm_neighbours': 'brute'}. Best is trial 23 with value: 0.003968253968253968.\u001b[0m\n",
      "\u001b[32m[I 2023-05-22 12:26:55,518]\u001b[0m Trial 34 finished with value: 0.003968253968253968 and parameters: {'model_type': 2, 'c_svm': 0.7228711347477996, 'kernel_svm': 'poly', 'gamma_svm': 'auto', 'degree_svm': 2}. Best is trial 23 with value: 0.003968253968253968.\u001b[0m\n",
      "\u001b[32m[I 2023-05-22 12:26:55,933]\u001b[0m Trial 35 finished with value: 0.003968253968253968 and parameters: {'model_type': 2, 'c_svm': 0.7005347922114169, 'kernel_svm': 'poly', 'gamma_svm': 'auto', 'degree_svm': 3}. Best is trial 23 with value: 0.003968253968253968.\u001b[0m\n",
      "c:\\Users\\nikolya\\AppData\\Local\\Programs\\Python\\Python310\\lib\\site-packages\\sklearn\\tree\\_classes.py:269: FutureWarning: `max_features='auto'` has been deprecated in 1.1 and will be removed in 1.3. To keep the past behaviour, explicitly set `max_features='sqrt'`.\n",
      "  warnings.warn(\n",
      "\u001b[32m[I 2023-05-22 12:26:56,006]\u001b[0m Trial 36 finished with value: 0.023809523809523808 and parameters: {'model_type': 4, 'criterion_trees': 'gini', 'max_depth_trees': 1, 'min_samples_split_trees': 1, 'min_samples_leaf_trees': 4, 'suggest_categorical': 'auto'}. Best is trial 23 with value: 0.003968253968253968.\u001b[0m\n",
      "\u001b[32m[I 2023-05-22 12:26:56,060]\u001b[0m Trial 37 finished with value: 0.023809523809523808 and parameters: {'model_type': 1, 'k_neighbours': 395, 'dist_neighbours': 'euclidean', 'weights_neighbours': 'uniform', 'algorithm_neighbours': 'ball_tree'}. Best is trial 23 with value: 0.003968253968253968.\u001b[0m\n",
      "\u001b[32m[I 2023-05-22 12:26:56,077]\u001b[0m Trial 38 finished with value: 0.03571428571428571 and parameters: {'model_type': 3, 'alpha_bayes': 0.5743191918216193}. Best is trial 23 with value: 0.003968253968253968.\u001b[0m\n",
      "\u001b[32m[I 2023-05-22 12:26:56,504]\u001b[0m Trial 39 finished with value: 0.023809523809523808 and parameters: {'model_type': 2, 'c_svm': 0.7417386798637067, 'kernel_svm': 'sigmoid', 'gamma_svm': 'auto', 'degree_svm': 2}. Best is trial 23 with value: 0.003968253968253968.\u001b[0m\n",
      "\u001b[32m[I 2023-05-22 12:26:57,301]\u001b[0m Trial 40 finished with value: 0.023809523809523808 and parameters: {'model_type': 2, 'c_svm': 0.7484097656225712, 'kernel_svm': 'rbf', 'gamma_svm': 'auto', 'degree_svm': 2}. Best is trial 23 with value: 0.003968253968253968.\u001b[0m\n",
      "\u001b[32m[I 2023-05-22 12:26:57,697]\u001b[0m Trial 41 finished with value: 0.003968253968253968 and parameters: {'model_type': 2, 'c_svm': 0.7005243220677243, 'kernel_svm': 'poly', 'gamma_svm': 'auto', 'degree_svm': 2}. Best is trial 23 with value: 0.003968253968253968.\u001b[0m\n",
      "\u001b[32m[I 2023-05-22 12:26:58,186]\u001b[0m Trial 42 finished with value: 0.003968253968253968 and parameters: {'model_type': 2, 'c_svm': 0.7322858142997957, 'kernel_svm': 'poly', 'gamma_svm': 'auto', 'degree_svm': 2}. Best is trial 23 with value: 0.003968253968253968.\u001b[0m\n",
      "\u001b[32m[I 2023-05-22 12:26:58,227]\u001b[0m Trial 43 finished with value: 0.03968253968253968 and parameters: {'model_type': 3, 'alpha_bayes': 0.36292156058077757}. Best is trial 23 with value: 0.003968253968253968.\u001b[0m\n",
      "\u001b[32m[I 2023-05-22 12:26:58,851]\u001b[0m Trial 44 finished with value: 0.04365079365079365 and parameters: {'model_type': 2, 'c_svm': 0.7259356630068097, 'kernel_svm': 'linear', 'gamma_svm': 'auto', 'degree_svm': 3}. Best is trial 23 with value: 0.003968253968253968.\u001b[0m\n",
      "\u001b[32m[I 2023-05-22 12:26:59,430]\u001b[0m Trial 45 finished with value: 0.051587301587301584 and parameters: {'model_type': 2, 'c_svm': 0.7719776144257459, 'kernel_svm': 'poly', 'gamma_svm': 'scale', 'degree_svm': 2}. Best is trial 23 with value: 0.003968253968253968.\u001b[0m\n",
      "\u001b[32m[I 2023-05-22 12:26:59,458]\u001b[0m Trial 46 finished with value: 0.03571428571428571 and parameters: {'model_type': 3, 'alpha_bayes': 0.7215939850060192}. Best is trial 23 with value: 0.003968253968253968.\u001b[0m\n",
      "\u001b[32m[I 2023-05-22 12:26:59,516]\u001b[0m Trial 47 finished with value: 0.21428571428571427 and parameters: {'model_type': 1, 'k_neighbours': 99, 'dist_neighbours': 'manhattan', 'weights_neighbours': 'distance', 'algorithm_neighbours': 'kd_tree'}. Best is trial 23 with value: 0.003968253968253968.\u001b[0m\n",
      "\u001b[32m[I 2023-05-22 12:26:59,779]\u001b[0m Trial 48 finished with value: 0.003968253968253968 and parameters: {'model_type': 2, 'c_svm': 0.7746671847881392, 'kernel_svm': 'poly', 'gamma_svm': 'auto', 'degree_svm': 3}. Best is trial 23 with value: 0.003968253968253968.\u001b[0m\n",
      "\u001b[32m[I 2023-05-22 12:26:59,825]\u001b[0m Trial 49 finished with value: 0.03571428571428571 and parameters: {'model_type': 1, 'k_neighbours': 285, 'dist_neighbours': 'euclidean', 'weights_neighbours': 'uniform', 'algorithm_neighbours': 'auto'}. Best is trial 23 with value: 0.003968253968253968.\u001b[0m\n",
      "\u001b[32m[I 2023-05-22 12:26:59,843]\u001b[0m Trial 50 finished with value: 0.999959479372073 and parameters: {'model_type': 5, 'n_jobs': 20}. Best is trial 23 with value: 0.003968253968253968.\u001b[0m\n",
      "\u001b[32m[I 2023-05-22 12:27:00,416]\u001b[0m Trial 51 finished with value: 0.003968253968253968 and parameters: {'model_type': 2, 'c_svm': 0.7080904377627105, 'kernel_svm': 'poly', 'gamma_svm': 'auto', 'degree_svm': 3}. Best is trial 23 with value: 0.003968253968253968.\u001b[0m\n",
      "\u001b[32m[I 2023-05-22 12:27:01,109]\u001b[0m Trial 52 finished with value: 0.003968253968253968 and parameters: {'model_type': 2, 'c_svm': 0.7005254586587485, 'kernel_svm': 'poly', 'gamma_svm': 'auto', 'degree_svm': 2}. Best is trial 23 with value: 0.003968253968253968.\u001b[0m\n",
      "\u001b[32m[I 2023-05-22 12:27:01,363]\u001b[0m Trial 53 finished with value: 0.003968253968253968 and parameters: {'model_type': 2, 'c_svm': 0.7232415349898461, 'kernel_svm': 'poly', 'gamma_svm': 'auto', 'degree_svm': 5}. Best is trial 23 with value: 0.003968253968253968.\u001b[0m\n",
      "\u001b[32m[I 2023-05-22 12:27:01,574]\u001b[0m Trial 54 finished with value: 0.003968253968253968 and parameters: {'model_type': 2, 'c_svm': 0.7026802725712562, 'kernel_svm': 'poly', 'gamma_svm': 'auto', 'degree_svm': 3}. Best is trial 23 with value: 0.003968253968253968.\u001b[0m\n",
      "\u001b[32m[I 2023-05-22 12:27:01,599]\u001b[0m Trial 55 finished with value: 0.03571428571428571 and parameters: {'model_type': 3, 'alpha_bayes': 0.7557659583800165}. Best is trial 23 with value: 0.003968253968253968.\u001b[0m\n",
      "\u001b[32m[I 2023-05-22 12:27:02,059]\u001b[0m Trial 56 finished with value: 0.003968253968253968 and parameters: {'model_type': 2, 'c_svm': 0.7253605248658689, 'kernel_svm': 'poly', 'gamma_svm': 'auto', 'degree_svm': 2}. Best is trial 23 with value: 0.003968253968253968.\u001b[0m\n",
      "\u001b[32m[I 2023-05-22 12:27:02,375]\u001b[0m Trial 57 finished with value: 0.003968253968253968 and parameters: {'model_type': 2, 'c_svm': 0.7595464539200787, 'kernel_svm': 'poly', 'gamma_svm': 'auto', 'degree_svm': 2}. Best is trial 23 with value: 0.003968253968253968.\u001b[0m\n",
      "\u001b[32m[I 2023-05-22 12:27:02,662]\u001b[0m Trial 58 finished with value: 0.003968253968253968 and parameters: {'model_type': 2, 'c_svm': 0.7205046858226335, 'kernel_svm': 'poly', 'gamma_svm': 'auto', 'degree_svm': 4}. Best is trial 23 with value: 0.003968253968253968.\u001b[0m\n",
      "\u001b[32m[I 2023-05-22 12:27:02,691]\u001b[0m Trial 59 finished with value: 0.03968253968253968 and parameters: {'model_type': 3, 'alpha_bayes': 0.3980467096843449}. Best is trial 23 with value: 0.003968253968253968.\u001b[0m\n",
      "\u001b[32m[I 2023-05-22 12:27:03,088]\u001b[0m Trial 60 finished with value: 0.023809523809523808 and parameters: {'model_type': 2, 'c_svm': 0.7449371804500104, 'kernel_svm': 'sigmoid', 'gamma_svm': 'auto', 'degree_svm': 3}. Best is trial 23 with value: 0.003968253968253968.\u001b[0m\n",
      "\u001b[32m[I 2023-05-22 12:27:03,609]\u001b[0m Trial 61 finished with value: 0.003968253968253968 and parameters: {'model_type': 2, 'c_svm': 0.7003593252644623, 'kernel_svm': 'poly', 'gamma_svm': 'auto', 'degree_svm': 2}. Best is trial 23 with value: 0.003968253968253968.\u001b[0m\n",
      "\u001b[32m[I 2023-05-22 12:27:04,007]\u001b[0m Trial 62 finished with value: 0.003968253968253968 and parameters: {'model_type': 2, 'c_svm': 0.7171795749250136, 'kernel_svm': 'poly', 'gamma_svm': 'auto', 'degree_svm': 2}. Best is trial 23 with value: 0.003968253968253968.\u001b[0m\n",
      "\u001b[32m[I 2023-05-22 12:27:04,687]\u001b[0m Trial 63 finished with value: 0.04365079365079365 and parameters: {'model_type': 2, 'c_svm': 0.7080833903245887, 'kernel_svm': 'rbf', 'gamma_svm': 'scale', 'degree_svm': 2}. Best is trial 23 with value: 0.003968253968253968.\u001b[0m\n",
      "\u001b[32m[I 2023-05-22 12:27:04,884]\u001b[0m Trial 64 finished with value: 0.21428571428571427 and parameters: {'model_type': 1, 'k_neighbours': 209, 'dist_neighbours': 'manhattan', 'weights_neighbours': 'distance', 'algorithm_neighbours': 'brute'}. Best is trial 23 with value: 0.003968253968253968.\u001b[0m\n",
      "\u001b[32m[I 2023-05-22 12:27:05,519]\u001b[0m Trial 65 finished with value: 0.003968253968253968 and parameters: {'model_type': 2, 'c_svm': 0.8133574563069621, 'kernel_svm': 'poly', 'gamma_svm': 'auto', 'degree_svm': 2}. Best is trial 23 with value: 0.003968253968253968.\u001b[0m\n",
      "\u001b[32m[I 2023-05-22 12:27:06,062]\u001b[0m Trial 66 finished with value: 0.003968253968253968 and parameters: {'model_type': 2, 'c_svm': 0.7316800974512998, 'kernel_svm': 'poly', 'gamma_svm': 'auto', 'degree_svm': 4}. Best is trial 23 with value: 0.003968253968253968.\u001b[0m\n",
      "\u001b[32m[I 2023-05-22 12:27:06,095]\u001b[0m Trial 67 finished with value: 0.03968253968253968 and parameters: {'model_type': 3, 'alpha_bayes': 0.25886472220156487}. Best is trial 23 with value: 0.003968253968253968.\u001b[0m\n",
      "\u001b[32m[I 2023-05-22 12:27:06,528]\u001b[0m Trial 68 finished with value: 0.04365079365079365 and parameters: {'model_type': 2, 'c_svm': 0.702934482412828, 'kernel_svm': 'linear', 'gamma_svm': 'scale', 'degree_svm': 2}. Best is trial 23 with value: 0.003968253968253968.\u001b[0m\n",
      "\u001b[32m[I 2023-05-22 12:27:06,593]\u001b[0m Trial 69 finished with value: 0.05555555555555555 and parameters: {'model_type': 1, 'k_neighbours': 89, 'dist_neighbours': 'minkowski', 'weights_neighbours': 'uniform', 'algorithm_neighbours': 'ball_tree'}. Best is trial 23 with value: 0.003968253968253968.\u001b[0m\n",
      "\u001b[32m[I 2023-05-22 12:27:06,920]\u001b[0m Trial 70 finished with value: 0.003968253968253968 and parameters: {'model_type': 2, 'c_svm': 0.7177496746300709, 'kernel_svm': 'poly', 'gamma_svm': 'auto', 'degree_svm': 3}. Best is trial 23 with value: 0.003968253968253968.\u001b[0m\n",
      "\u001b[32m[I 2023-05-22 12:27:07,311]\u001b[0m Trial 71 finished with value: 0.003968253968253968 and parameters: {'model_type': 2, 'c_svm': 0.7337203755252727, 'kernel_svm': 'poly', 'gamma_svm': 'auto', 'degree_svm': 2}. Best is trial 23 with value: 0.003968253968253968.\u001b[0m\n",
      "\u001b[32m[I 2023-05-22 12:27:07,558]\u001b[0m Trial 72 finished with value: 0.003968253968253968 and parameters: {'model_type': 2, 'c_svm': 0.7355558694393872, 'kernel_svm': 'poly', 'gamma_svm': 'auto', 'degree_svm': 2}. Best is trial 23 with value: 0.003968253968253968.\u001b[0m\n",
      "\u001b[32m[I 2023-05-22 12:27:07,795]\u001b[0m Trial 73 finished with value: 0.023809523809523808 and parameters: {'model_type': 2, 'c_svm': 0.7164848231378116, 'kernel_svm': 'poly', 'gamma_svm': 'auto', 'degree_svm': 1}. Best is trial 23 with value: 0.003968253968253968.\u001b[0m\n",
      "\u001b[32m[I 2023-05-22 12:27:08,060]\u001b[0m Trial 74 finished with value: 0.003968253968253968 and parameters: {'model_type': 2, 'c_svm': 0.7002711079977326, 'kernel_svm': 'poly', 'gamma_svm': 'auto', 'degree_svm': 2}. Best is trial 23 with value: 0.003968253968253968.\u001b[0m\n",
      "\u001b[32m[I 2023-05-22 12:27:08,332]\u001b[0m Trial 75 finished with value: 0.003968253968253968 and parameters: {'model_type': 2, 'c_svm': 0.7217177249040931, 'kernel_svm': 'poly', 'gamma_svm': 'auto', 'degree_svm': 2}. Best is trial 23 with value: 0.003968253968253968.\u001b[0m\n",
      "\u001b[32m[I 2023-05-22 12:27:08,899]\u001b[0m Trial 76 finished with value: 0.023809523809523808 and parameters: {'model_type': 2, 'c_svm': 0.7534278342701289, 'kernel_svm': 'rbf', 'gamma_svm': 'auto', 'degree_svm': 1}. Best is trial 23 with value: 0.003968253968253968.\u001b[0m\n",
      "\u001b[32m[I 2023-05-22 12:27:08,931]\u001b[0m Trial 77 finished with value: 0.03571428571428571 and parameters: {'model_type': 3, 'alpha_bayes': 0.7084689275112811}. Best is trial 23 with value: 0.003968253968253968.\u001b[0m\n",
      "\u001b[32m[I 2023-05-22 12:27:08,979]\u001b[0m Trial 78 finished with value: 0.051587301587301584 and parameters: {'model_type': 1, 'k_neighbours': 327, 'dist_neighbours': 'manhattan', 'weights_neighbours': 'uniform', 'algorithm_neighbours': 'brute'}. Best is trial 23 with value: 0.003968253968253968.\u001b[0m\n",
      "\u001b[32m[I 2023-05-22 12:27:09,220]\u001b[0m Trial 79 finished with value: 0.003968253968253968 and parameters: {'model_type': 2, 'c_svm': 0.736408680854895, 'kernel_svm': 'poly', 'gamma_svm': 'auto', 'degree_svm': 2}. Best is trial 23 with value: 0.003968253968253968.\u001b[0m\n",
      "\u001b[32m[I 2023-05-22 12:27:09,643]\u001b[0m Trial 80 finished with value: 0.023809523809523808 and parameters: {'model_type': 2, 'c_svm': 0.7170533058060896, 'kernel_svm': 'poly', 'gamma_svm': 'auto', 'degree_svm': 1}. Best is trial 23 with value: 0.003968253968253968.\u001b[0m\n",
      "\u001b[32m[I 2023-05-22 12:27:10,021]\u001b[0m Trial 81 finished with value: 0.003968253968253968 and parameters: {'model_type': 2, 'c_svm': 0.7625343541112024, 'kernel_svm': 'poly', 'gamma_svm': 'auto', 'degree_svm': 3}. Best is trial 23 with value: 0.003968253968253968.\u001b[0m\n",
      "\u001b[32m[I 2023-05-22 12:27:10,408]\u001b[0m Trial 82 finished with value: 0.003968253968253968 and parameters: {'model_type': 2, 'c_svm': 0.7864028990351157, 'kernel_svm': 'poly', 'gamma_svm': 'auto', 'degree_svm': 3}. Best is trial 23 with value: 0.003968253968253968.\u001b[0m\n",
      "\u001b[32m[I 2023-05-22 12:27:10,735]\u001b[0m Trial 83 finished with value: 0.003968253968253968 and parameters: {'model_type': 2, 'c_svm': 0.7441283889753332, 'kernel_svm': 'poly', 'gamma_svm': 'auto', 'degree_svm': 3}. Best is trial 23 with value: 0.003968253968253968.\u001b[0m\n",
      "\u001b[32m[I 2023-05-22 12:27:11,110]\u001b[0m Trial 84 finished with value: 0.023809523809523808 and parameters: {'model_type': 2, 'c_svm': 0.7122995755654155, 'kernel_svm': 'sigmoid', 'gamma_svm': 'auto', 'degree_svm': 2}. Best is trial 23 with value: 0.003968253968253968.\u001b[0m\n",
      "\u001b[32m[I 2023-05-22 12:27:11,532]\u001b[0m Trial 85 finished with value: 0.003968253968253968 and parameters: {'model_type': 2, 'c_svm': 0.7279809393257833, 'kernel_svm': 'poly', 'gamma_svm': 'auto', 'degree_svm': 2}. Best is trial 23 with value: 0.003968253968253968.\u001b[0m\n",
      "\u001b[32m[I 2023-05-22 12:27:11,596]\u001b[0m Trial 86 finished with value: 0.17063492063492064 and parameters: {'model_type': 1, 'k_neighbours': 211, 'dist_neighbours': 'minkowski', 'weights_neighbours': 'distance', 'algorithm_neighbours': 'kd_tree'}. Best is trial 23 with value: 0.003968253968253968.\u001b[0m\n",
      "\u001b[32m[I 2023-05-22 12:27:11,805]\u001b[0m Trial 87 finished with value: 0.04365079365079365 and parameters: {'model_type': 2, 'c_svm': 0.7125010016915505, 'kernel_svm': 'linear', 'gamma_svm': 'auto', 'degree_svm': 2}. Best is trial 23 with value: 0.003968253968253968.\u001b[0m\n",
      "\u001b[32m[I 2023-05-22 12:27:11,833]\u001b[0m Trial 88 finished with value: 0.03571428571428571 and parameters: {'model_type': 3, 'alpha_bayes': 0.5797597385654849}. Best is trial 23 with value: 0.003968253968253968.\u001b[0m\n",
      "\u001b[32m[I 2023-05-22 12:27:12,161]\u001b[0m Trial 89 finished with value: 0.003968253968253968 and parameters: {'model_type': 2, 'c_svm': 0.7435247946539015, 'kernel_svm': 'poly', 'gamma_svm': 'auto', 'degree_svm': 3}. Best is trial 23 with value: 0.003968253968253968.\u001b[0m\n",
      "\u001b[32m[I 2023-05-22 12:27:12,378]\u001b[0m Trial 90 finished with value: 0.051587301587301584 and parameters: {'model_type': 2, 'c_svm': 0.7328647246501714, 'kernel_svm': 'poly', 'gamma_svm': 'scale', 'degree_svm': 2}. Best is trial 23 with value: 0.003968253968253968.\u001b[0m\n",
      "\u001b[32m[I 2023-05-22 12:27:12,666]\u001b[0m Trial 91 finished with value: 0.003968253968253968 and parameters: {'model_type': 2, 'c_svm': 0.7092962333235866, 'kernel_svm': 'poly', 'gamma_svm': 'auto', 'degree_svm': 3}. Best is trial 23 with value: 0.003968253968253968.\u001b[0m\n",
      "\u001b[32m[I 2023-05-22 12:27:12,963]\u001b[0m Trial 92 finished with value: 0.003968253968253968 and parameters: {'model_type': 2, 'c_svm': 0.7121388615906563, 'kernel_svm': 'poly', 'gamma_svm': 'auto', 'degree_svm': 3}. Best is trial 23 with value: 0.003968253968253968.\u001b[0m\n",
      "\u001b[32m[I 2023-05-22 12:27:13,335]\u001b[0m Trial 93 finished with value: 0.003968253968253968 and parameters: {'model_type': 2, 'c_svm': 0.7002306000604914, 'kernel_svm': 'poly', 'gamma_svm': 'auto', 'degree_svm': 3}. Best is trial 23 with value: 0.003968253968253968.\u001b[0m\n",
      "\u001b[32m[I 2023-05-22 12:27:13,662]\u001b[0m Trial 94 finished with value: 0.003968253968253968 and parameters: {'model_type': 2, 'c_svm': 0.7244013107626875, 'kernel_svm': 'poly', 'gamma_svm': 'auto', 'degree_svm': 4}. Best is trial 23 with value: 0.003968253968253968.\u001b[0m\n",
      "\u001b[32m[I 2023-05-22 12:27:14,131]\u001b[0m Trial 95 finished with value: 0.003968253968253968 and parameters: {'model_type': 2, 'c_svm': 0.7108294584783912, 'kernel_svm': 'poly', 'gamma_svm': 'auto', 'degree_svm': 2}. Best is trial 23 with value: 0.003968253968253968.\u001b[0m\n",
      "\u001b[32m[I 2023-05-22 12:27:14,496]\u001b[0m Trial 96 finished with value: 0.003968253968253968 and parameters: {'model_type': 2, 'c_svm': 0.868693025163966, 'kernel_svm': 'poly', 'gamma_svm': 'auto', 'degree_svm': 3}. Best is trial 23 with value: 0.003968253968253968.\u001b[0m\n",
      "\u001b[32m[I 2023-05-22 12:27:14,548]\u001b[0m Trial 97 finished with value: 0.023809523809523808 and parameters: {'model_type': 4, 'criterion_trees': 'gini', 'max_depth_trees': 1, 'min_samples_split_trees': 2, 'min_samples_leaf_trees': 5, 'suggest_categorical': 'log2'}. Best is trial 23 with value: 0.003968253968253968.\u001b[0m\n",
      "\u001b[32m[I 2023-05-22 12:27:15,174]\u001b[0m Trial 98 finished with value: 0.003968253968253968 and parameters: {'model_type': 2, 'c_svm': 0.7276407494970404, 'kernel_svm': 'poly', 'gamma_svm': 'auto', 'degree_svm': 2}. Best is trial 23 with value: 0.003968253968253968.\u001b[0m\n",
      "\u001b[32m[I 2023-05-22 12:27:15,986]\u001b[0m Trial 99 finished with value: 0.023809523809523808 and parameters: {'model_type': 2, 'c_svm': 0.7002758215024829, 'kernel_svm': 'rbf', 'gamma_svm': 'auto', 'degree_svm': 2}. Best is trial 23 with value: 0.003968253968253968.\u001b[0m\n"
     ]
    },
    {
     "name": "stdout",
     "output_type": "stream",
     "text": [
      "{'model_type': 2, 'c_svm': 0.907975839583622, 'kernel_svm': 'poly', 'gamma_svm': 'auto', 'degree_svm': 2}\n",
      "0.003968253968253968\n"
     ]
    }
   ],
   "source": [
    "import optuna as opt\n",
    "from sklearn.neighbors import KNeighborsClassifier\n",
    "from sklearn.svm import SVC\n",
    "from sklearn.naive_bayes import MultinomialNB\n",
    "from sklearn.tree import DecisionTreeClassifier\n",
    "from sklearn.linear_model import LinearRegression\n",
    "from abc import ABC, abstractmethod\n",
    "\n",
    "class ModelRequest(ABC):\n",
    "    @abstractmethod\n",
    "    def acquire_hyper_params(hyper_params: list):\n",
    "        pass\n",
    "\n",
    "class KneighborsRequest(ModelRequest):\n",
    "    def __init__(self, hyper_params: list):\n",
    "        super().__init__()\n",
    "        self.acquire_hyper_params(hyper_params)\n",
    "\n",
    "    def acquire_hyper_params(self, hyper_params: list):\n",
    "        self.k_neighbours = hyper_params[0]\n",
    "        self.dist_neighbours = hyper_params[1]\n",
    "        self.weights_neighbours = hyper_params[2]\n",
    "        self.algorithm_neighbours = hyper_params[3]\n",
    "    \n",
    "class SVCRequest(ModelRequest):\n",
    "    def __init__(self, hyper_params: list):\n",
    "        super().__init__()\n",
    "        self.acquire_hyper_params(hyper_params)\n",
    "\n",
    "    def acquire_hyper_params(self, hyper_params: list):\n",
    "        self.c_svm = hyper_params[0]\n",
    "        self.kernel_svm = hyper_params[1]\n",
    "        self.gamma_svm = hyper_params[2]\n",
    "        self.degree_svm = hyper_params[3]\n",
    "\n",
    "class BayesRequest(ModelRequest):\n",
    "    def __init__(self, hyper_params: list):\n",
    "        super().__init__()\n",
    "        self.acquire_hyper_params(hyper_params)\n",
    "\n",
    "    def acquire_hyper_params(self, hyper_params: list):\n",
    "        self.alpha_bayes = hyper_params[0]\n",
    "      \n",
    "\n",
    "class DecisionTreeRequest(ModelRequest):\n",
    "    def __init__(self, hyper_params: list):\n",
    "        super().__init__()\n",
    "        self.acquire_hyper_params(hyper_params)\n",
    "\n",
    "    def acquire_hyper_params(self, hyper_params: list):\n",
    "        self.criterion_trees = hyper_params[0]\n",
    "        self.max_depth_trees = hyper_params[1]\n",
    "        self.min_samples_split_trees = hyper_params[2]\n",
    "        self.min_samples_leaf_trees = hyper_params[3]\n",
    "        self.max_features_trees = hyper_params[4]\n",
    "\n",
    "class LinearRegressionRequest(ModelRequest):\n",
    "    def __init__(self, hyper_params: list):\n",
    "        super().__init__()\n",
    "        self.acquire_hyper_params(hyper_params)\n",
    "\n",
    "    def acquire_hyper_params(self, hyper_params: list):\n",
    "        self.n_jobs = hyper_params[0]       \n",
    "\n",
    "class ModelWrapper:\n",
    "    def __init__(self, model_request: ModelRequest):\n",
    "        \n",
    "        if isinstance(model_request, KneighborsRequest):\n",
    "            self.model = KNeighborsClassifier(\n",
    "                    n_neighbors=model_request.k_neighbours,\n",
    "                    metric=model_request.dist_neighbours,\n",
    "                    weights=model_request.weights_neighbours,\n",
    "                    algorithm=model_request.algorithm_neighbours\n",
    "                )\n",
    "            \n",
    "        elif isinstance(model_request, SVCRequest):\n",
    "            self.model = SVC(C=model_request.c_svm, kernel=model_request.kernel_svm, gamma=model_request.gamma_svm,\n",
    "                              degree=model_request.degree_svm)\n",
    "        elif isinstance(model_request, BayesRequest):\n",
    "            self.model = MultinomialNB(alpha=model_request.alpha_bayes)     \n",
    "              \n",
    "        elif isinstance(model_request, DecisionTreeRequest):\n",
    "            self.model = DecisionTreeClassifier(criterion=model_request.criterion_trees, \n",
    "                                                max_depth=model_request.max_depth_trees, \n",
    "                                                min_samples_split=model_request.min_samples_split_trees,\n",
    "                                                min_samples_leaf=model_request.min_samples_leaf_trees,\n",
    "                                                max_features=model_request.max_features_trees\n",
    "                                                )     \n",
    "        elif isinstance(model_request, LinearRegressionRequest):\n",
    "            self.model = LinearRegression(n_jobs=model_request.n_jobs)    \n",
    "\n",
    "    def fit(self, x_train, y_train):\n",
    "        self.model.fit(x_train, y_train)\n",
    "\n",
    "    def predict(self, x_test):\n",
    "        return self.model.predict(x_test)     \n",
    "    \n",
    "    def score(self, x_valid, y_valid):\n",
    "        return self.model.score(x_valid, y_valid)\n",
    "\n",
    "def objective(trial):\n",
    "    model_type = trial.suggest_int(\"model_type\", 1, 5)\n",
    "\n",
    "    if model_type == 1:\n",
    "        model_request = KneighborsRequest([\n",
    "            trial.suggest_int(\"k_neighbours\", 1, 399, 2),\n",
    "            trial.suggest_categorical(\"dist_neighbours\", [\"minkowski\", \"euclidean\", \"manhattan\"]),\n",
    "            trial.suggest_categorical(\"weights_neighbours\", [\"uniform\", \"distance\"]),\n",
    "            trial.suggest_categorical(\"algorithm_neighbours\", [\"auto\", \"ball_tree\", \"kd_tree\", \"brute\"])])\n",
    "\n",
    "    elif model_type == 2:\n",
    "        model_request = SVCRequest([\n",
    "            trial.suggest_float(\"c_svm\", 0.7, 1),\n",
    "            trial.suggest_categorical(\"kernel_svm\", [\"linear\", \"poly\", \"rbf\", \"sigmoid\"]),\n",
    "            trial.suggest_categorical(\"gamma_svm\", [\"scale\", \"auto\"]),\n",
    "            trial.suggest_int(\"degree_svm\", 1, 5)])\n",
    "\n",
    "    elif model_type == 3:\n",
    "         model_request = BayesRequest([ trial.suggest_float(\"alpha_bayes\", 0.1, 1) ])\n",
    "\n",
    "    elif model_type == 4:\n",
    "         model_request = DecisionTreeRequest([\n",
    "            trial.suggest_categorical(\"criterion_trees\", ['entropy', 'gini']),\n",
    "            trial.suggest_int(\"max_depth_trees\", 1, 10),\n",
    "            trial.suggest_int(\"min_samples_split_trees\", 1, 20),\n",
    "            trial.suggest_int(\"min_samples_leaf_trees\", 4, 12),\n",
    "            trial.suggest_categorical('suggest_categorical', ['auto', 'sqrt','log2'])])\n",
    "    elif model_type == 5:\n",
    "        model_request = LinearRegressionRequest([\n",
    "            trial.suggest_int(\"n_jobs\", 1, 20)\n",
    "        ])     \n",
    "\n",
    "\n",
    "    model = ModelWrapper(model_request)\n",
    "\n",
    "    model.fit(train_x, train_y)\n",
    "\n",
    "    return model.score(valid_x, valid_y)\n",
    "\n",
    "\n",
    "def choose_your_fighter(params):\n",
    "    model_type = params[\"model_type\"]\n",
    "    params.pop(\"model_type\")\n",
    "\n",
    "    values = list(params.values())\n",
    "    if model_type == 1:\n",
    "        best_model = ModelWrapper(KneighborsRequest(values))\n",
    "    elif model_type == 2:\n",
    "        best_model = ModelWrapper(SVCRequest(values))    \n",
    "    elif model_type == 3:\n",
    "        best_model = ModelWrapper(BayesRequest(values))\n",
    "    elif model_type == 4:\n",
    "        best_model = ModelWrapper(DecisionTreeRequest(values))\n",
    "    elif model_type == 5:\n",
    "        best_model = ModelWrapper(LinearRegressionRequest(values))    \n",
    "    return best_model    \n",
    "\n",
    "\n",
    "studyWithBaseSampler = opt.create_study(direction=\"minimize\")\n",
    "studyWithBaseSampler.optimize(objective, n_trials=100)\n",
    "\n",
    "params = studyWithBaseSampler.best_params\n",
    "print(params)\n",
    "print(studyWithBaseSampler.best_value)\n",
    "\n",
    "best_model = choose_your_fighter(params)\n",
    "best_model.fit(train_x, train_y)\n",
    "prediction = best_model.predict(test_x)\n"
   ]
  },
  {
   "cell_type": "code",
   "execution_count": 10,
   "metadata": {},
   "outputs": [
    {
     "data": {
      "application/vnd.plotly.v1+json": {
       "config": {
        "plotlyServerURL": "https://plot.ly"
       },
       "data": [
        {
         "mode": "markers",
         "name": "Objective Value",
         "type": "scatter",
         "x": [
          0,
          1,
          2,
          3,
          4,
          5,
          6,
          7,
          8,
          9,
          10,
          11,
          12,
          13,
          14,
          15,
          16,
          17,
          18,
          19,
          20,
          21,
          22,
          23,
          24,
          25,
          26,
          27,
          28,
          29,
          30,
          31,
          32,
          33,
          34,
          35,
          36,
          37,
          38,
          39,
          40,
          41,
          42,
          43,
          44,
          45,
          46,
          47,
          48,
          49,
          50,
          51,
          52,
          53,
          54,
          55,
          56,
          57,
          58,
          59,
          60,
          61,
          62,
          63,
          64,
          65,
          66,
          67,
          68,
          69,
          70,
          71,
          72,
          73,
          74,
          75,
          76,
          77,
          78,
          79,
          80,
          81,
          82,
          83,
          84,
          85,
          86,
          87,
          88,
          89,
          90,
          91,
          92,
          93,
          94,
          95,
          96,
          97,
          98,
          99
         ],
         "y": [
          0.20238095238095238,
          0.1746031746031746,
          0.17857142857142858,
          0.999959479372073,
          0.04365079365079365,
          0.999959479372073,
          0.999959479372073,
          0.03571428571428571,
          0.21428571428571427,
          0.1746031746031746,
          0.03571428571428571,
          0.03571428571428571,
          0.03571428571428571,
          0.023809523809523808,
          0.023809523809523808,
          0.023809523809523808,
          0.023809523809523808,
          0.051587301587301584,
          0.15079365079365079,
          0.023809523809523808,
          0.023809523809523808,
          0.023809523809523808,
          0.023809523809523808,
          0.003968253968253968,
          0.03968253968253968,
          0.21031746031746032,
          0.051587301587301584,
          0.03968253968253968,
          0.003968253968253968,
          0.17063492063492064,
          0.03968253968253968,
          0.003968253968253968,
          0.003968253968253968,
          0.17063492063492064,
          0.003968253968253968,
          0.003968253968253968,
          0.023809523809523808,
          0.023809523809523808,
          0.03571428571428571,
          0.023809523809523808,
          0.023809523809523808,
          0.003968253968253968,
          0.003968253968253968,
          0.03968253968253968,
          0.04365079365079365,
          0.051587301587301584,
          0.03571428571428571,
          0.21428571428571427,
          0.003968253968253968,
          0.03571428571428571,
          0.999959479372073,
          0.003968253968253968,
          0.003968253968253968,
          0.003968253968253968,
          0.003968253968253968,
          0.03571428571428571,
          0.003968253968253968,
          0.003968253968253968,
          0.003968253968253968,
          0.03968253968253968,
          0.023809523809523808,
          0.003968253968253968,
          0.003968253968253968,
          0.04365079365079365,
          0.21428571428571427,
          0.003968253968253968,
          0.003968253968253968,
          0.03968253968253968,
          0.04365079365079365,
          0.05555555555555555,
          0.003968253968253968,
          0.003968253968253968,
          0.003968253968253968,
          0.023809523809523808,
          0.003968253968253968,
          0.003968253968253968,
          0.023809523809523808,
          0.03571428571428571,
          0.051587301587301584,
          0.003968253968253968,
          0.023809523809523808,
          0.003968253968253968,
          0.003968253968253968,
          0.003968253968253968,
          0.023809523809523808,
          0.003968253968253968,
          0.17063492063492064,
          0.04365079365079365,
          0.03571428571428571,
          0.003968253968253968,
          0.051587301587301584,
          0.003968253968253968,
          0.003968253968253968,
          0.003968253968253968,
          0.003968253968253968,
          0.003968253968253968,
          0.003968253968253968,
          0.023809523809523808,
          0.003968253968253968,
          0.023809523809523808
         ]
        },
        {
         "name": "Best Value",
         "type": "scatter",
         "x": [
          0,
          1,
          2,
          3,
          4,
          5,
          6,
          7,
          8,
          9,
          10,
          11,
          12,
          13,
          14,
          15,
          16,
          17,
          18,
          19,
          20,
          21,
          22,
          23,
          24,
          25,
          26,
          27,
          28,
          29,
          30,
          31,
          32,
          33,
          34,
          35,
          36,
          37,
          38,
          39,
          40,
          41,
          42,
          43,
          44,
          45,
          46,
          47,
          48,
          49,
          50,
          51,
          52,
          53,
          54,
          55,
          56,
          57,
          58,
          59,
          60,
          61,
          62,
          63,
          64,
          65,
          66,
          67,
          68,
          69,
          70,
          71,
          72,
          73,
          74,
          75,
          76,
          77,
          78,
          79,
          80,
          81,
          82,
          83,
          84,
          85,
          86,
          87,
          88,
          89,
          90,
          91,
          92,
          93,
          94,
          95,
          96,
          97,
          98,
          99
         ],
         "y": [
          0.20238095238095238,
          0.1746031746031746,
          0.1746031746031746,
          0.1746031746031746,
          0.04365079365079365,
          0.04365079365079365,
          0.04365079365079365,
          0.03571428571428571,
          0.03571428571428571,
          0.03571428571428571,
          0.03571428571428571,
          0.03571428571428571,
          0.03571428571428571,
          0.023809523809523808,
          0.023809523809523808,
          0.023809523809523808,
          0.023809523809523808,
          0.023809523809523808,
          0.023809523809523808,
          0.023809523809523808,
          0.023809523809523808,
          0.023809523809523808,
          0.023809523809523808,
          0.003968253968253968,
          0.003968253968253968,
          0.003968253968253968,
          0.003968253968253968,
          0.003968253968253968,
          0.003968253968253968,
          0.003968253968253968,
          0.003968253968253968,
          0.003968253968253968,
          0.003968253968253968,
          0.003968253968253968,
          0.003968253968253968,
          0.003968253968253968,
          0.003968253968253968,
          0.003968253968253968,
          0.003968253968253968,
          0.003968253968253968,
          0.003968253968253968,
          0.003968253968253968,
          0.003968253968253968,
          0.003968253968253968,
          0.003968253968253968,
          0.003968253968253968,
          0.003968253968253968,
          0.003968253968253968,
          0.003968253968253968,
          0.003968253968253968,
          0.003968253968253968,
          0.003968253968253968,
          0.003968253968253968,
          0.003968253968253968,
          0.003968253968253968,
          0.003968253968253968,
          0.003968253968253968,
          0.003968253968253968,
          0.003968253968253968,
          0.003968253968253968,
          0.003968253968253968,
          0.003968253968253968,
          0.003968253968253968,
          0.003968253968253968,
          0.003968253968253968,
          0.003968253968253968,
          0.003968253968253968,
          0.003968253968253968,
          0.003968253968253968,
          0.003968253968253968,
          0.003968253968253968,
          0.003968253968253968,
          0.003968253968253968,
          0.003968253968253968,
          0.003968253968253968,
          0.003968253968253968,
          0.003968253968253968,
          0.003968253968253968,
          0.003968253968253968,
          0.003968253968253968,
          0.003968253968253968,
          0.003968253968253968,
          0.003968253968253968,
          0.003968253968253968,
          0.003968253968253968,
          0.003968253968253968,
          0.003968253968253968,
          0.003968253968253968,
          0.003968253968253968,
          0.003968253968253968,
          0.003968253968253968,
          0.003968253968253968,
          0.003968253968253968,
          0.003968253968253968,
          0.003968253968253968,
          0.003968253968253968,
          0.003968253968253968,
          0.003968253968253968,
          0.003968253968253968,
          0.003968253968253968
         ]
        }
       ],
       "layout": {
        "template": {
         "data": {
          "bar": [
           {
            "error_x": {
             "color": "#2a3f5f"
            },
            "error_y": {
             "color": "#2a3f5f"
            },
            "marker": {
             "line": {
              "color": "#E5ECF6",
              "width": 0.5
             },
             "pattern": {
              "fillmode": "overlay",
              "size": 10,
              "solidity": 0.2
             }
            },
            "type": "bar"
           }
          ],
          "barpolar": [
           {
            "marker": {
             "line": {
              "color": "#E5ECF6",
              "width": 0.5
             },
             "pattern": {
              "fillmode": "overlay",
              "size": 10,
              "solidity": 0.2
             }
            },
            "type": "barpolar"
           }
          ],
          "carpet": [
           {
            "aaxis": {
             "endlinecolor": "#2a3f5f",
             "gridcolor": "white",
             "linecolor": "white",
             "minorgridcolor": "white",
             "startlinecolor": "#2a3f5f"
            },
            "baxis": {
             "endlinecolor": "#2a3f5f",
             "gridcolor": "white",
             "linecolor": "white",
             "minorgridcolor": "white",
             "startlinecolor": "#2a3f5f"
            },
            "type": "carpet"
           }
          ],
          "choropleth": [
           {
            "colorbar": {
             "outlinewidth": 0,
             "ticks": ""
            },
            "type": "choropleth"
           }
          ],
          "contour": [
           {
            "colorbar": {
             "outlinewidth": 0,
             "ticks": ""
            },
            "colorscale": [
             [
              0,
              "#0d0887"
             ],
             [
              0.1111111111111111,
              "#46039f"
             ],
             [
              0.2222222222222222,
              "#7201a8"
             ],
             [
              0.3333333333333333,
              "#9c179e"
             ],
             [
              0.4444444444444444,
              "#bd3786"
             ],
             [
              0.5555555555555556,
              "#d8576b"
             ],
             [
              0.6666666666666666,
              "#ed7953"
             ],
             [
              0.7777777777777778,
              "#fb9f3a"
             ],
             [
              0.8888888888888888,
              "#fdca26"
             ],
             [
              1,
              "#f0f921"
             ]
            ],
            "type": "contour"
           }
          ],
          "contourcarpet": [
           {
            "colorbar": {
             "outlinewidth": 0,
             "ticks": ""
            },
            "type": "contourcarpet"
           }
          ],
          "heatmap": [
           {
            "colorbar": {
             "outlinewidth": 0,
             "ticks": ""
            },
            "colorscale": [
             [
              0,
              "#0d0887"
             ],
             [
              0.1111111111111111,
              "#46039f"
             ],
             [
              0.2222222222222222,
              "#7201a8"
             ],
             [
              0.3333333333333333,
              "#9c179e"
             ],
             [
              0.4444444444444444,
              "#bd3786"
             ],
             [
              0.5555555555555556,
              "#d8576b"
             ],
             [
              0.6666666666666666,
              "#ed7953"
             ],
             [
              0.7777777777777778,
              "#fb9f3a"
             ],
             [
              0.8888888888888888,
              "#fdca26"
             ],
             [
              1,
              "#f0f921"
             ]
            ],
            "type": "heatmap"
           }
          ],
          "heatmapgl": [
           {
            "colorbar": {
             "outlinewidth": 0,
             "ticks": ""
            },
            "colorscale": [
             [
              0,
              "#0d0887"
             ],
             [
              0.1111111111111111,
              "#46039f"
             ],
             [
              0.2222222222222222,
              "#7201a8"
             ],
             [
              0.3333333333333333,
              "#9c179e"
             ],
             [
              0.4444444444444444,
              "#bd3786"
             ],
             [
              0.5555555555555556,
              "#d8576b"
             ],
             [
              0.6666666666666666,
              "#ed7953"
             ],
             [
              0.7777777777777778,
              "#fb9f3a"
             ],
             [
              0.8888888888888888,
              "#fdca26"
             ],
             [
              1,
              "#f0f921"
             ]
            ],
            "type": "heatmapgl"
           }
          ],
          "histogram": [
           {
            "marker": {
             "pattern": {
              "fillmode": "overlay",
              "size": 10,
              "solidity": 0.2
             }
            },
            "type": "histogram"
           }
          ],
          "histogram2d": [
           {
            "colorbar": {
             "outlinewidth": 0,
             "ticks": ""
            },
            "colorscale": [
             [
              0,
              "#0d0887"
             ],
             [
              0.1111111111111111,
              "#46039f"
             ],
             [
              0.2222222222222222,
              "#7201a8"
             ],
             [
              0.3333333333333333,
              "#9c179e"
             ],
             [
              0.4444444444444444,
              "#bd3786"
             ],
             [
              0.5555555555555556,
              "#d8576b"
             ],
             [
              0.6666666666666666,
              "#ed7953"
             ],
             [
              0.7777777777777778,
              "#fb9f3a"
             ],
             [
              0.8888888888888888,
              "#fdca26"
             ],
             [
              1,
              "#f0f921"
             ]
            ],
            "type": "histogram2d"
           }
          ],
          "histogram2dcontour": [
           {
            "colorbar": {
             "outlinewidth": 0,
             "ticks": ""
            },
            "colorscale": [
             [
              0,
              "#0d0887"
             ],
             [
              0.1111111111111111,
              "#46039f"
             ],
             [
              0.2222222222222222,
              "#7201a8"
             ],
             [
              0.3333333333333333,
              "#9c179e"
             ],
             [
              0.4444444444444444,
              "#bd3786"
             ],
             [
              0.5555555555555556,
              "#d8576b"
             ],
             [
              0.6666666666666666,
              "#ed7953"
             ],
             [
              0.7777777777777778,
              "#fb9f3a"
             ],
             [
              0.8888888888888888,
              "#fdca26"
             ],
             [
              1,
              "#f0f921"
             ]
            ],
            "type": "histogram2dcontour"
           }
          ],
          "mesh3d": [
           {
            "colorbar": {
             "outlinewidth": 0,
             "ticks": ""
            },
            "type": "mesh3d"
           }
          ],
          "parcoords": [
           {
            "line": {
             "colorbar": {
              "outlinewidth": 0,
              "ticks": ""
             }
            },
            "type": "parcoords"
           }
          ],
          "pie": [
           {
            "automargin": true,
            "type": "pie"
           }
          ],
          "scatter": [
           {
            "fillpattern": {
             "fillmode": "overlay",
             "size": 10,
             "solidity": 0.2
            },
            "type": "scatter"
           }
          ],
          "scatter3d": [
           {
            "line": {
             "colorbar": {
              "outlinewidth": 0,
              "ticks": ""
             }
            },
            "marker": {
             "colorbar": {
              "outlinewidth": 0,
              "ticks": ""
             }
            },
            "type": "scatter3d"
           }
          ],
          "scattercarpet": [
           {
            "marker": {
             "colorbar": {
              "outlinewidth": 0,
              "ticks": ""
             }
            },
            "type": "scattercarpet"
           }
          ],
          "scattergeo": [
           {
            "marker": {
             "colorbar": {
              "outlinewidth": 0,
              "ticks": ""
             }
            },
            "type": "scattergeo"
           }
          ],
          "scattergl": [
           {
            "marker": {
             "colorbar": {
              "outlinewidth": 0,
              "ticks": ""
             }
            },
            "type": "scattergl"
           }
          ],
          "scattermapbox": [
           {
            "marker": {
             "colorbar": {
              "outlinewidth": 0,
              "ticks": ""
             }
            },
            "type": "scattermapbox"
           }
          ],
          "scatterpolar": [
           {
            "marker": {
             "colorbar": {
              "outlinewidth": 0,
              "ticks": ""
             }
            },
            "type": "scatterpolar"
           }
          ],
          "scatterpolargl": [
           {
            "marker": {
             "colorbar": {
              "outlinewidth": 0,
              "ticks": ""
             }
            },
            "type": "scatterpolargl"
           }
          ],
          "scatterternary": [
           {
            "marker": {
             "colorbar": {
              "outlinewidth": 0,
              "ticks": ""
             }
            },
            "type": "scatterternary"
           }
          ],
          "surface": [
           {
            "colorbar": {
             "outlinewidth": 0,
             "ticks": ""
            },
            "colorscale": [
             [
              0,
              "#0d0887"
             ],
             [
              0.1111111111111111,
              "#46039f"
             ],
             [
              0.2222222222222222,
              "#7201a8"
             ],
             [
              0.3333333333333333,
              "#9c179e"
             ],
             [
              0.4444444444444444,
              "#bd3786"
             ],
             [
              0.5555555555555556,
              "#d8576b"
             ],
             [
              0.6666666666666666,
              "#ed7953"
             ],
             [
              0.7777777777777778,
              "#fb9f3a"
             ],
             [
              0.8888888888888888,
              "#fdca26"
             ],
             [
              1,
              "#f0f921"
             ]
            ],
            "type": "surface"
           }
          ],
          "table": [
           {
            "cells": {
             "fill": {
              "color": "#EBF0F8"
             },
             "line": {
              "color": "white"
             }
            },
            "header": {
             "fill": {
              "color": "#C8D4E3"
             },
             "line": {
              "color": "white"
             }
            },
            "type": "table"
           }
          ]
         },
         "layout": {
          "annotationdefaults": {
           "arrowcolor": "#2a3f5f",
           "arrowhead": 0,
           "arrowwidth": 1
          },
          "autotypenumbers": "strict",
          "coloraxis": {
           "colorbar": {
            "outlinewidth": 0,
            "ticks": ""
           }
          },
          "colorscale": {
           "diverging": [
            [
             0,
             "#8e0152"
            ],
            [
             0.1,
             "#c51b7d"
            ],
            [
             0.2,
             "#de77ae"
            ],
            [
             0.3,
             "#f1b6da"
            ],
            [
             0.4,
             "#fde0ef"
            ],
            [
             0.5,
             "#f7f7f7"
            ],
            [
             0.6,
             "#e6f5d0"
            ],
            [
             0.7,
             "#b8e186"
            ],
            [
             0.8,
             "#7fbc41"
            ],
            [
             0.9,
             "#4d9221"
            ],
            [
             1,
             "#276419"
            ]
           ],
           "sequential": [
            [
             0,
             "#0d0887"
            ],
            [
             0.1111111111111111,
             "#46039f"
            ],
            [
             0.2222222222222222,
             "#7201a8"
            ],
            [
             0.3333333333333333,
             "#9c179e"
            ],
            [
             0.4444444444444444,
             "#bd3786"
            ],
            [
             0.5555555555555556,
             "#d8576b"
            ],
            [
             0.6666666666666666,
             "#ed7953"
            ],
            [
             0.7777777777777778,
             "#fb9f3a"
            ],
            [
             0.8888888888888888,
             "#fdca26"
            ],
            [
             1,
             "#f0f921"
            ]
           ],
           "sequentialminus": [
            [
             0,
             "#0d0887"
            ],
            [
             0.1111111111111111,
             "#46039f"
            ],
            [
             0.2222222222222222,
             "#7201a8"
            ],
            [
             0.3333333333333333,
             "#9c179e"
            ],
            [
             0.4444444444444444,
             "#bd3786"
            ],
            [
             0.5555555555555556,
             "#d8576b"
            ],
            [
             0.6666666666666666,
             "#ed7953"
            ],
            [
             0.7777777777777778,
             "#fb9f3a"
            ],
            [
             0.8888888888888888,
             "#fdca26"
            ],
            [
             1,
             "#f0f921"
            ]
           ]
          },
          "colorway": [
           "#636efa",
           "#EF553B",
           "#00cc96",
           "#ab63fa",
           "#FFA15A",
           "#19d3f3",
           "#FF6692",
           "#B6E880",
           "#FF97FF",
           "#FECB52"
          ],
          "font": {
           "color": "#2a3f5f"
          },
          "geo": {
           "bgcolor": "white",
           "lakecolor": "white",
           "landcolor": "#E5ECF6",
           "showlakes": true,
           "showland": true,
           "subunitcolor": "white"
          },
          "hoverlabel": {
           "align": "left"
          },
          "hovermode": "closest",
          "mapbox": {
           "style": "light"
          },
          "paper_bgcolor": "white",
          "plot_bgcolor": "#E5ECF6",
          "polar": {
           "angularaxis": {
            "gridcolor": "white",
            "linecolor": "white",
            "ticks": ""
           },
           "bgcolor": "#E5ECF6",
           "radialaxis": {
            "gridcolor": "white",
            "linecolor": "white",
            "ticks": ""
           }
          },
          "scene": {
           "xaxis": {
            "backgroundcolor": "#E5ECF6",
            "gridcolor": "white",
            "gridwidth": 2,
            "linecolor": "white",
            "showbackground": true,
            "ticks": "",
            "zerolinecolor": "white"
           },
           "yaxis": {
            "backgroundcolor": "#E5ECF6",
            "gridcolor": "white",
            "gridwidth": 2,
            "linecolor": "white",
            "showbackground": true,
            "ticks": "",
            "zerolinecolor": "white"
           },
           "zaxis": {
            "backgroundcolor": "#E5ECF6",
            "gridcolor": "white",
            "gridwidth": 2,
            "linecolor": "white",
            "showbackground": true,
            "ticks": "",
            "zerolinecolor": "white"
           }
          },
          "shapedefaults": {
           "line": {
            "color": "#2a3f5f"
           }
          },
          "ternary": {
           "aaxis": {
            "gridcolor": "white",
            "linecolor": "white",
            "ticks": ""
           },
           "baxis": {
            "gridcolor": "white",
            "linecolor": "white",
            "ticks": ""
           },
           "bgcolor": "#E5ECF6",
           "caxis": {
            "gridcolor": "white",
            "linecolor": "white",
            "ticks": ""
           }
          },
          "title": {
           "x": 0.05
          },
          "xaxis": {
           "automargin": true,
           "gridcolor": "white",
           "linecolor": "white",
           "ticks": "",
           "title": {
            "standoff": 15
           },
           "zerolinecolor": "white",
           "zerolinewidth": 2
          },
          "yaxis": {
           "automargin": true,
           "gridcolor": "white",
           "linecolor": "white",
           "ticks": "",
           "title": {
            "standoff": 15
           },
           "zerolinecolor": "white",
           "zerolinewidth": 2
          }
         }
        },
        "title": {
         "text": "Optimization History Plot"
        },
        "xaxis": {
         "title": {
          "text": "Trial"
         }
        },
        "yaxis": {
         "title": {
          "text": "Objective Value"
         }
        }
       }
      }
     },
     "metadata": {},
     "output_type": "display_data"
    }
   ],
   "source": [
    "from optuna.visualization import plot_optimization_history\n",
    "\n",
    "plot_optimization_history(studyWithBaseSampler).show()"
   ]
  },
  {
   "cell_type": "code",
   "execution_count": 11,
   "metadata": {},
   "outputs": [
    {
     "data": {
      "application/vnd.plotly.v1+json": {
       "config": {
        "plotlyServerURL": "https://plot.ly"
       },
       "data": [
        {
         "cliponaxis": false,
         "hovertemplate": [
          "model_type (IntDistribution): 0.0<extra></extra>",
          "degree_svm (IntDistribution): 0.01290667257044991<extra></extra>",
          "c_svm (FloatDistribution): 0.033601436709469884<extra></extra>",
          "kernel_svm (CategoricalDistribution): 0.3028433591952006<extra></extra>",
          "gamma_svm (CategoricalDistribution): 0.6506485315248796<extra></extra>"
         ],
         "marker": {
          "color": "rgb(66,146,198)"
         },
         "orientation": "h",
         "text": [
          "<0.01",
          "0.01",
          "0.03",
          "0.30",
          "0.65"
         ],
         "textposition": "outside",
         "type": "bar",
         "x": [
          0,
          0.01290667257044991,
          0.033601436709469884,
          0.3028433591952006,
          0.6506485315248796
         ],
         "y": [
          "model_type",
          "degree_svm",
          "c_svm",
          "kernel_svm",
          "gamma_svm"
         ]
        }
       ],
       "layout": {
        "showlegend": false,
        "template": {
         "data": {
          "bar": [
           {
            "error_x": {
             "color": "#2a3f5f"
            },
            "error_y": {
             "color": "#2a3f5f"
            },
            "marker": {
             "line": {
              "color": "#E5ECF6",
              "width": 0.5
             },
             "pattern": {
              "fillmode": "overlay",
              "size": 10,
              "solidity": 0.2
             }
            },
            "type": "bar"
           }
          ],
          "barpolar": [
           {
            "marker": {
             "line": {
              "color": "#E5ECF6",
              "width": 0.5
             },
             "pattern": {
              "fillmode": "overlay",
              "size": 10,
              "solidity": 0.2
             }
            },
            "type": "barpolar"
           }
          ],
          "carpet": [
           {
            "aaxis": {
             "endlinecolor": "#2a3f5f",
             "gridcolor": "white",
             "linecolor": "white",
             "minorgridcolor": "white",
             "startlinecolor": "#2a3f5f"
            },
            "baxis": {
             "endlinecolor": "#2a3f5f",
             "gridcolor": "white",
             "linecolor": "white",
             "minorgridcolor": "white",
             "startlinecolor": "#2a3f5f"
            },
            "type": "carpet"
           }
          ],
          "choropleth": [
           {
            "colorbar": {
             "outlinewidth": 0,
             "ticks": ""
            },
            "type": "choropleth"
           }
          ],
          "contour": [
           {
            "colorbar": {
             "outlinewidth": 0,
             "ticks": ""
            },
            "colorscale": [
             [
              0,
              "#0d0887"
             ],
             [
              0.1111111111111111,
              "#46039f"
             ],
             [
              0.2222222222222222,
              "#7201a8"
             ],
             [
              0.3333333333333333,
              "#9c179e"
             ],
             [
              0.4444444444444444,
              "#bd3786"
             ],
             [
              0.5555555555555556,
              "#d8576b"
             ],
             [
              0.6666666666666666,
              "#ed7953"
             ],
             [
              0.7777777777777778,
              "#fb9f3a"
             ],
             [
              0.8888888888888888,
              "#fdca26"
             ],
             [
              1,
              "#f0f921"
             ]
            ],
            "type": "contour"
           }
          ],
          "contourcarpet": [
           {
            "colorbar": {
             "outlinewidth": 0,
             "ticks": ""
            },
            "type": "contourcarpet"
           }
          ],
          "heatmap": [
           {
            "colorbar": {
             "outlinewidth": 0,
             "ticks": ""
            },
            "colorscale": [
             [
              0,
              "#0d0887"
             ],
             [
              0.1111111111111111,
              "#46039f"
             ],
             [
              0.2222222222222222,
              "#7201a8"
             ],
             [
              0.3333333333333333,
              "#9c179e"
             ],
             [
              0.4444444444444444,
              "#bd3786"
             ],
             [
              0.5555555555555556,
              "#d8576b"
             ],
             [
              0.6666666666666666,
              "#ed7953"
             ],
             [
              0.7777777777777778,
              "#fb9f3a"
             ],
             [
              0.8888888888888888,
              "#fdca26"
             ],
             [
              1,
              "#f0f921"
             ]
            ],
            "type": "heatmap"
           }
          ],
          "heatmapgl": [
           {
            "colorbar": {
             "outlinewidth": 0,
             "ticks": ""
            },
            "colorscale": [
             [
              0,
              "#0d0887"
             ],
             [
              0.1111111111111111,
              "#46039f"
             ],
             [
              0.2222222222222222,
              "#7201a8"
             ],
             [
              0.3333333333333333,
              "#9c179e"
             ],
             [
              0.4444444444444444,
              "#bd3786"
             ],
             [
              0.5555555555555556,
              "#d8576b"
             ],
             [
              0.6666666666666666,
              "#ed7953"
             ],
             [
              0.7777777777777778,
              "#fb9f3a"
             ],
             [
              0.8888888888888888,
              "#fdca26"
             ],
             [
              1,
              "#f0f921"
             ]
            ],
            "type": "heatmapgl"
           }
          ],
          "histogram": [
           {
            "marker": {
             "pattern": {
              "fillmode": "overlay",
              "size": 10,
              "solidity": 0.2
             }
            },
            "type": "histogram"
           }
          ],
          "histogram2d": [
           {
            "colorbar": {
             "outlinewidth": 0,
             "ticks": ""
            },
            "colorscale": [
             [
              0,
              "#0d0887"
             ],
             [
              0.1111111111111111,
              "#46039f"
             ],
             [
              0.2222222222222222,
              "#7201a8"
             ],
             [
              0.3333333333333333,
              "#9c179e"
             ],
             [
              0.4444444444444444,
              "#bd3786"
             ],
             [
              0.5555555555555556,
              "#d8576b"
             ],
             [
              0.6666666666666666,
              "#ed7953"
             ],
             [
              0.7777777777777778,
              "#fb9f3a"
             ],
             [
              0.8888888888888888,
              "#fdca26"
             ],
             [
              1,
              "#f0f921"
             ]
            ],
            "type": "histogram2d"
           }
          ],
          "histogram2dcontour": [
           {
            "colorbar": {
             "outlinewidth": 0,
             "ticks": ""
            },
            "colorscale": [
             [
              0,
              "#0d0887"
             ],
             [
              0.1111111111111111,
              "#46039f"
             ],
             [
              0.2222222222222222,
              "#7201a8"
             ],
             [
              0.3333333333333333,
              "#9c179e"
             ],
             [
              0.4444444444444444,
              "#bd3786"
             ],
             [
              0.5555555555555556,
              "#d8576b"
             ],
             [
              0.6666666666666666,
              "#ed7953"
             ],
             [
              0.7777777777777778,
              "#fb9f3a"
             ],
             [
              0.8888888888888888,
              "#fdca26"
             ],
             [
              1,
              "#f0f921"
             ]
            ],
            "type": "histogram2dcontour"
           }
          ],
          "mesh3d": [
           {
            "colorbar": {
             "outlinewidth": 0,
             "ticks": ""
            },
            "type": "mesh3d"
           }
          ],
          "parcoords": [
           {
            "line": {
             "colorbar": {
              "outlinewidth": 0,
              "ticks": ""
             }
            },
            "type": "parcoords"
           }
          ],
          "pie": [
           {
            "automargin": true,
            "type": "pie"
           }
          ],
          "scatter": [
           {
            "fillpattern": {
             "fillmode": "overlay",
             "size": 10,
             "solidity": 0.2
            },
            "type": "scatter"
           }
          ],
          "scatter3d": [
           {
            "line": {
             "colorbar": {
              "outlinewidth": 0,
              "ticks": ""
             }
            },
            "marker": {
             "colorbar": {
              "outlinewidth": 0,
              "ticks": ""
             }
            },
            "type": "scatter3d"
           }
          ],
          "scattercarpet": [
           {
            "marker": {
             "colorbar": {
              "outlinewidth": 0,
              "ticks": ""
             }
            },
            "type": "scattercarpet"
           }
          ],
          "scattergeo": [
           {
            "marker": {
             "colorbar": {
              "outlinewidth": 0,
              "ticks": ""
             }
            },
            "type": "scattergeo"
           }
          ],
          "scattergl": [
           {
            "marker": {
             "colorbar": {
              "outlinewidth": 0,
              "ticks": ""
             }
            },
            "type": "scattergl"
           }
          ],
          "scattermapbox": [
           {
            "marker": {
             "colorbar": {
              "outlinewidth": 0,
              "ticks": ""
             }
            },
            "type": "scattermapbox"
           }
          ],
          "scatterpolar": [
           {
            "marker": {
             "colorbar": {
              "outlinewidth": 0,
              "ticks": ""
             }
            },
            "type": "scatterpolar"
           }
          ],
          "scatterpolargl": [
           {
            "marker": {
             "colorbar": {
              "outlinewidth": 0,
              "ticks": ""
             }
            },
            "type": "scatterpolargl"
           }
          ],
          "scatterternary": [
           {
            "marker": {
             "colorbar": {
              "outlinewidth": 0,
              "ticks": ""
             }
            },
            "type": "scatterternary"
           }
          ],
          "surface": [
           {
            "colorbar": {
             "outlinewidth": 0,
             "ticks": ""
            },
            "colorscale": [
             [
              0,
              "#0d0887"
             ],
             [
              0.1111111111111111,
              "#46039f"
             ],
             [
              0.2222222222222222,
              "#7201a8"
             ],
             [
              0.3333333333333333,
              "#9c179e"
             ],
             [
              0.4444444444444444,
              "#bd3786"
             ],
             [
              0.5555555555555556,
              "#d8576b"
             ],
             [
              0.6666666666666666,
              "#ed7953"
             ],
             [
              0.7777777777777778,
              "#fb9f3a"
             ],
             [
              0.8888888888888888,
              "#fdca26"
             ],
             [
              1,
              "#f0f921"
             ]
            ],
            "type": "surface"
           }
          ],
          "table": [
           {
            "cells": {
             "fill": {
              "color": "#EBF0F8"
             },
             "line": {
              "color": "white"
             }
            },
            "header": {
             "fill": {
              "color": "#C8D4E3"
             },
             "line": {
              "color": "white"
             }
            },
            "type": "table"
           }
          ]
         },
         "layout": {
          "annotationdefaults": {
           "arrowcolor": "#2a3f5f",
           "arrowhead": 0,
           "arrowwidth": 1
          },
          "autotypenumbers": "strict",
          "coloraxis": {
           "colorbar": {
            "outlinewidth": 0,
            "ticks": ""
           }
          },
          "colorscale": {
           "diverging": [
            [
             0,
             "#8e0152"
            ],
            [
             0.1,
             "#c51b7d"
            ],
            [
             0.2,
             "#de77ae"
            ],
            [
             0.3,
             "#f1b6da"
            ],
            [
             0.4,
             "#fde0ef"
            ],
            [
             0.5,
             "#f7f7f7"
            ],
            [
             0.6,
             "#e6f5d0"
            ],
            [
             0.7,
             "#b8e186"
            ],
            [
             0.8,
             "#7fbc41"
            ],
            [
             0.9,
             "#4d9221"
            ],
            [
             1,
             "#276419"
            ]
           ],
           "sequential": [
            [
             0,
             "#0d0887"
            ],
            [
             0.1111111111111111,
             "#46039f"
            ],
            [
             0.2222222222222222,
             "#7201a8"
            ],
            [
             0.3333333333333333,
             "#9c179e"
            ],
            [
             0.4444444444444444,
             "#bd3786"
            ],
            [
             0.5555555555555556,
             "#d8576b"
            ],
            [
             0.6666666666666666,
             "#ed7953"
            ],
            [
             0.7777777777777778,
             "#fb9f3a"
            ],
            [
             0.8888888888888888,
             "#fdca26"
            ],
            [
             1,
             "#f0f921"
            ]
           ],
           "sequentialminus": [
            [
             0,
             "#0d0887"
            ],
            [
             0.1111111111111111,
             "#46039f"
            ],
            [
             0.2222222222222222,
             "#7201a8"
            ],
            [
             0.3333333333333333,
             "#9c179e"
            ],
            [
             0.4444444444444444,
             "#bd3786"
            ],
            [
             0.5555555555555556,
             "#d8576b"
            ],
            [
             0.6666666666666666,
             "#ed7953"
            ],
            [
             0.7777777777777778,
             "#fb9f3a"
            ],
            [
             0.8888888888888888,
             "#fdca26"
            ],
            [
             1,
             "#f0f921"
            ]
           ]
          },
          "colorway": [
           "#636efa",
           "#EF553B",
           "#00cc96",
           "#ab63fa",
           "#FFA15A",
           "#19d3f3",
           "#FF6692",
           "#B6E880",
           "#FF97FF",
           "#FECB52"
          ],
          "font": {
           "color": "#2a3f5f"
          },
          "geo": {
           "bgcolor": "white",
           "lakecolor": "white",
           "landcolor": "#E5ECF6",
           "showlakes": true,
           "showland": true,
           "subunitcolor": "white"
          },
          "hoverlabel": {
           "align": "left"
          },
          "hovermode": "closest",
          "mapbox": {
           "style": "light"
          },
          "paper_bgcolor": "white",
          "plot_bgcolor": "#E5ECF6",
          "polar": {
           "angularaxis": {
            "gridcolor": "white",
            "linecolor": "white",
            "ticks": ""
           },
           "bgcolor": "#E5ECF6",
           "radialaxis": {
            "gridcolor": "white",
            "linecolor": "white",
            "ticks": ""
           }
          },
          "scene": {
           "xaxis": {
            "backgroundcolor": "#E5ECF6",
            "gridcolor": "white",
            "gridwidth": 2,
            "linecolor": "white",
            "showbackground": true,
            "ticks": "",
            "zerolinecolor": "white"
           },
           "yaxis": {
            "backgroundcolor": "#E5ECF6",
            "gridcolor": "white",
            "gridwidth": 2,
            "linecolor": "white",
            "showbackground": true,
            "ticks": "",
            "zerolinecolor": "white"
           },
           "zaxis": {
            "backgroundcolor": "#E5ECF6",
            "gridcolor": "white",
            "gridwidth": 2,
            "linecolor": "white",
            "showbackground": true,
            "ticks": "",
            "zerolinecolor": "white"
           }
          },
          "shapedefaults": {
           "line": {
            "color": "#2a3f5f"
           }
          },
          "ternary": {
           "aaxis": {
            "gridcolor": "white",
            "linecolor": "white",
            "ticks": ""
           },
           "baxis": {
            "gridcolor": "white",
            "linecolor": "white",
            "ticks": ""
           },
           "bgcolor": "#E5ECF6",
           "caxis": {
            "gridcolor": "white",
            "linecolor": "white",
            "ticks": ""
           }
          },
          "title": {
           "x": 0.05
          },
          "xaxis": {
           "automargin": true,
           "gridcolor": "white",
           "linecolor": "white",
           "ticks": "",
           "title": {
            "standoff": 15
           },
           "zerolinecolor": "white",
           "zerolinewidth": 2
          },
          "yaxis": {
           "automargin": true,
           "gridcolor": "white",
           "linecolor": "white",
           "ticks": "",
           "title": {
            "standoff": 15
           },
           "zerolinecolor": "white",
           "zerolinewidth": 2
          }
         }
        },
        "title": {
         "text": "Hyperparameter Importances"
        },
        "xaxis": {
         "title": {
          "text": "Importance for Objective Value"
         }
        },
        "yaxis": {
         "title": {
          "text": "Hyperparameter"
         }
        }
       }
      }
     },
     "metadata": {},
     "output_type": "display_data"
    }
   ],
   "source": [
    "from optuna.visualization import plot_param_importances\n",
    "\n",
    "\n",
    "plot_param_importances(studyWithBaseSampler, params=list(studyWithBaseSampler.best_params.keys())).show()"
   ]
  },
  {
   "cell_type": "code",
   "execution_count": null,
   "metadata": {},
   "outputs": [],
   "source": [
    "# plt.figure(figsize=(20, 5))\n",
    "# plt.plot(test_y, label=\"Real\")\n",
    "# plt.plot(prediction, label=\"Prediction\")\n",
    "\n",
    "# plt.grid(True)\n",
    "# plt.axis('tight')\n",
    "# plt.legend(loc = \"best\", fontsize = 18)\n",
    "# plt.show()"
   ]
  },
  {
   "cell_type": "code",
   "execution_count": null,
   "metadata": {},
   "outputs": [
    {
     "name": "stderr",
     "output_type": "stream",
     "text": [
      "\u001b[32m[I 2023-03-09 17:19:16,927]\u001b[0m A new study created in memory with name: no-name-248b6a91-44a3-4c99-90a4-338357cf58f0\u001b[0m\n",
      "\u001b[32m[I 2023-03-09 17:19:16,940]\u001b[0m Trial 0 finished with value: 0.03571428571428571 and parameters: {'model_type': 3, 'alpha_bayes': 0.6307837456834718}. Best is trial 0 with value: 0.03571428571428571.\u001b[0m\n",
      "\u001b[32m[I 2023-03-09 17:19:16,977]\u001b[0m Trial 1 finished with value: 0.03571428571428571 and parameters: {'model_type': 1, 'k_neighbours': 247, 'dist_neighbours': 'manhattan', 'weights_neighbours': 'uniform', 'algorithm_neighbours': 'auto'}. Best is trial 0 with value: 0.03571428571428571.\u001b[0m\n",
      "\u001b[32m[I 2023-03-09 17:19:17,005]\u001b[0m Trial 2 finished with value: 0.03968253968253968 and parameters: {'model_type': 3, 'alpha_bayes': 0.4784615100390702}. Best is trial 0 with value: 0.03571428571428571.\u001b[0m\n",
      "\u001b[32m[I 2023-03-09 17:19:17,012]\u001b[0m Trial 3 finished with value: 0.999959479372073 and parameters: {'model_type': 5, 'n_jobs': 7}. Best is trial 0 with value: 0.03571428571428571.\u001b[0m\n",
      "\u001b[32m[I 2023-03-09 17:19:17,021]\u001b[0m Trial 4 finished with value: 0.03571428571428571 and parameters: {'model_type': 3, 'alpha_bayes': 0.6205152692409102}. Best is trial 0 with value: 0.03571428571428571.\u001b[0m\n",
      "\u001b[32m[I 2023-03-09 17:19:17,052]\u001b[0m Trial 5 finished with value: 0.047619047619047616 and parameters: {'model_type': 1, 'k_neighbours': 111, 'dist_neighbours': 'minkowski', 'weights_neighbours': 'uniform', 'algorithm_neighbours': 'kd_tree'}. Best is trial 0 with value: 0.03571428571428571.\u001b[0m\n",
      "\u001b[32m[I 2023-03-09 17:19:17,332]\u001b[0m Trial 6 finished with value: 0.023809523809523808 and parameters: {'model_type': 2, 'c_svm': 0.8840155698790331, 'kernel_svm': 'rbf', 'gamma_svm': 'auto', 'degree_svm': 2}. Best is trial 6 with value: 0.023809523809523808.\u001b[0m\n",
      "\u001b[32m[I 2023-03-09 17:19:17,517]\u001b[0m Trial 7 finished with value: 0.051587301587301584 and parameters: {'model_type': 2, 'c_svm': 0.9010638658517446, 'kernel_svm': 'poly', 'gamma_svm': 'scale', 'degree_svm': 1}. Best is trial 6 with value: 0.023809523809523808.\u001b[0m\n",
      "\u001b[32m[I 2023-03-09 17:19:17,534]\u001b[0m Trial 8 finished with value: 0.2222222222222222 and parameters: {'model_type': 1, 'k_neighbours': 53, 'dist_neighbours': 'manhattan', 'weights_neighbours': 'distance', 'algorithm_neighbours': 'auto'}. Best is trial 6 with value: 0.023809523809523808.\u001b[0m\n",
      "\u001b[32m[I 2023-03-09 17:19:17,649]\u001b[0m Trial 9 finished with value: 0.21428571428571427 and parameters: {'model_type': 1, 'k_neighbours': 385, 'dist_neighbours': 'manhattan', 'weights_neighbours': 'distance', 'algorithm_neighbours': 'kd_tree'}. Best is trial 6 with value: 0.023809523809523808.\u001b[0m\n",
      "\u001b[32m[I 2023-03-09 17:19:17,655]\u001b[0m Trial 10 finished with value: 0.03571428571428571 and parameters: {'model_type': 3, 'alpha_bayes': 0.5974599118075075}. Best is trial 6 with value: 0.023809523809523808.\u001b[0m\n",
      "\u001b[32m[I 2023-03-09 17:19:17,668]\u001b[0m Trial 11 finished with value: 0.03571428571428571 and parameters: {'model_type': 3, 'alpha_bayes': 0.6580549914864516}. Best is trial 6 with value: 0.023809523809523808.\u001b[0m\n",
      "\u001b[32m[I 2023-03-09 17:19:17,674]\u001b[0m Trial 12 finished with value: 0.999959479372073 and parameters: {'model_type': 5, 'n_jobs': 2}. Best is trial 6 with value: 0.023809523809523808.\u001b[0m\n",
      "\u001b[32m[I 2023-03-09 17:19:17,684]\u001b[0m Trial 13 finished with value: 0.999959479372073 and parameters: {'model_type': 5, 'n_jobs': 18}. Best is trial 6 with value: 0.023809523809523808.\u001b[0m\n",
      "\u001b[32m[I 2023-03-09 17:19:17,689]\u001b[0m Trial 14 finished with value: 0.03968253968253968 and parameters: {'model_type': 3, 'alpha_bayes': 0.17421630052610632}. Best is trial 6 with value: 0.023809523809523808.\u001b[0m\n",
      "\u001b[32m[I 2023-03-09 17:19:17,698]\u001b[0m Trial 15 finished with value: 0.03968253968253968 and parameters: {'model_type': 3, 'alpha_bayes': 0.2942555808947215}. Best is trial 6 with value: 0.023809523809523808.\u001b[0m\n",
      "\u001b[32m[I 2023-03-09 17:19:17,708]\u001b[0m Trial 16 finished with value: 0.999959479372073 and parameters: {'model_type': 5, 'n_jobs': 7}. Best is trial 6 with value: 0.023809523809523808.\u001b[0m\n",
      "\u001b[32m[I 2023-03-09 17:19:17,719]\u001b[0m Trial 17 finished with value: 0.03571428571428571 and parameters: {'model_type': 3, 'alpha_bayes': 0.5319390694732549}. Best is trial 6 with value: 0.023809523809523808.\u001b[0m\n",
      "c:\\Users\\nikolya\\AppData\\Local\\Programs\\Python\\Python310\\lib\\site-packages\\sklearn\\tree\\_classes.py:269: FutureWarning:\n",
      "\n",
      "`max_features='auto'` has been deprecated in 1.1 and will be removed in 1.3. To keep the past behaviour, explicitly set `max_features='sqrt'`.\n",
      "\n",
      "\u001b[32m[I 2023-03-09 17:19:17,733]\u001b[0m Trial 18 finished with value: 0.023809523809523808 and parameters: {'model_type': 4, 'criterion_trees': 'gini', 'max_depth_trees': 1, 'min_samples_split_trees': 10, 'min_samples_leaf_trees': 4, 'suggest_categorical': 'auto'}. Best is trial 6 with value: 0.023809523809523808.\u001b[0m\n",
      "\u001b[32m[I 2023-03-09 17:19:18,054]\u001b[0m Trial 19 finished with value: 0.051587301587301584 and parameters: {'model_type': 2, 'c_svm': 0.9045143360225003, 'kernel_svm': 'linear', 'gamma_svm': 'scale', 'degree_svm': 2}. Best is trial 6 with value: 0.023809523809523808.\u001b[0m\n",
      "\u001b[32m[I 2023-03-09 17:19:18,291]\u001b[0m Trial 20 finished with value: 0.023809523809523808 and parameters: {'model_type': 2, 'c_svm': 0.9053721528730427, 'kernel_svm': 'sigmoid', 'gamma_svm': 'auto', 'degree_svm': 2}. Best is trial 6 with value: 0.023809523809523808.\u001b[0m\n",
      "\u001b[32m[I 2023-03-09 17:19:18,305]\u001b[0m Trial 21 finished with value: 0.12698412698412698 and parameters: {'model_type': 4, 'criterion_trees': 'gini', 'max_depth_trees': 9, 'min_samples_split_trees': 20, 'min_samples_leaf_trees': 11, 'suggest_categorical': 'sqrt'}. Best is trial 6 with value: 0.023809523809523808.\u001b[0m\n",
      "\u001b[32m[I 2023-03-09 17:19:18,309]\u001b[0m Trial 22 finished with value: 0.999959479372073 and parameters: {'model_type': 5, 'n_jobs': 17}. Best is trial 6 with value: 0.023809523809523808.\u001b[0m\n",
      "c:\\Users\\nikolya\\AppData\\Local\\Programs\\Python\\Python310\\lib\\site-packages\\sklearn\\tree\\_classes.py:269: FutureWarning:\n",
      "\n",
      "`max_features='auto'` has been deprecated in 1.1 and will be removed in 1.3. To keep the past behaviour, explicitly set `max_features='sqrt'`.\n",
      "\n",
      "\u001b[32m[I 2023-03-09 17:19:18,318]\u001b[0m Trial 23 finished with value: 0.023809523809523808 and parameters: {'model_type': 4, 'criterion_trees': 'entropy', 'max_depth_trees': 1, 'min_samples_split_trees': 12, 'min_samples_leaf_trees': 10, 'suggest_categorical': 'auto'}. Best is trial 6 with value: 0.023809523809523808.\u001b[0m\n",
      "\u001b[32m[I 2023-03-09 17:19:18,326]\u001b[0m Trial 24 finished with value: 0.03968253968253968 and parameters: {'model_type': 3, 'alpha_bayes': 0.1464470793927738}. Best is trial 6 with value: 0.023809523809523808.\u001b[0m\n",
      "\u001b[32m[I 2023-03-09 17:19:18,331]\u001b[0m Trial 25 finished with value: 0.999959479372073 and parameters: {'model_type': 5, 'n_jobs': 15}. Best is trial 6 with value: 0.023809523809523808.\u001b[0m\n",
      "\u001b[32m[I 2023-03-09 17:19:18,394]\u001b[0m Trial 26 finished with value: 0.03571428571428571 and parameters: {'model_type': 1, 'k_neighbours': 283, 'dist_neighbours': 'minkowski', 'weights_neighbours': 'uniform', 'algorithm_neighbours': 'auto'}. Best is trial 6 with value: 0.023809523809523808.\u001b[0m\n",
      "\u001b[32m[I 2023-03-09 17:19:18,592]\u001b[0m Trial 27 finished with value: 0.04365079365079365 and parameters: {'model_type': 2, 'c_svm': 0.7068980095400706, 'kernel_svm': 'linear', 'gamma_svm': 'auto', 'degree_svm': 4}. Best is trial 6 with value: 0.023809523809523808.\u001b[0m\n",
      "\u001b[32m[I 2023-03-09 17:19:18,599]\u001b[0m Trial 28 finished with value: 0.14285714285714285 and parameters: {'model_type': 4, 'criterion_trees': 'gini', 'max_depth_trees': 5, 'min_samples_split_trees': 13, 'min_samples_leaf_trees': 4, 'suggest_categorical': 'log2'}. Best is trial 6 with value: 0.023809523809523808.\u001b[0m\n",
      "\u001b[32m[I 2023-03-09 17:19:18,772]\u001b[0m Trial 29 finished with value: 0.04365079365079365 and parameters: {'model_type': 2, 'c_svm': 0.7335014030050768, 'kernel_svm': 'linear', 'gamma_svm': 'scale', 'degree_svm': 5}. Best is trial 6 with value: 0.023809523809523808.\u001b[0m\n",
      "\u001b[32m[I 2023-03-09 17:19:18,780]\u001b[0m Trial 30 finished with value: 0.03968253968253968 and parameters: {'model_type': 3, 'alpha_bayes': 0.22924600758923613}. Best is trial 6 with value: 0.023809523809523808.\u001b[0m\n",
      "\u001b[32m[I 2023-03-09 17:19:18,790]\u001b[0m Trial 31 finished with value: 0.999959479372073 and parameters: {'model_type': 5, 'n_jobs': 8}. Best is trial 6 with value: 0.023809523809523808.\u001b[0m\n",
      "\u001b[32m[I 2023-03-09 17:19:18,808]\u001b[0m Trial 32 finished with value: 0.20238095238095238 and parameters: {'model_type': 1, 'k_neighbours': 15, 'dist_neighbours': 'minkowski', 'weights_neighbours': 'distance', 'algorithm_neighbours': 'auto'}. Best is trial 6 with value: 0.023809523809523808.\u001b[0m\n",
      "\u001b[32m[I 2023-03-09 17:19:18,814]\u001b[0m Trial 33 finished with value: 0.03571428571428571 and parameters: {'model_type': 3, 'alpha_bayes': 0.8853303874521323}. Best is trial 6 with value: 0.023809523809523808.\u001b[0m\n",
      "\u001b[32m[I 2023-03-09 17:19:18,825]\u001b[0m Trial 34 finished with value: 0.06349206349206349 and parameters: {'model_type': 4, 'criterion_trees': 'gini', 'max_depth_trees': 4, 'min_samples_split_trees': 18, 'min_samples_leaf_trees': 5, 'suggest_categorical': 'log2'}. Best is trial 6 with value: 0.023809523809523808.\u001b[0m\n",
      "\u001b[32m[I 2023-03-09 17:19:18,954]\u001b[0m Trial 35 finished with value: 0.1746031746031746 and parameters: {'model_type': 1, 'k_neighbours': 331, 'dist_neighbours': 'euclidean', 'weights_neighbours': 'distance', 'algorithm_neighbours': 'auto'}. Best is trial 6 with value: 0.023809523809523808.\u001b[0m\n",
      "\u001b[32m[I 2023-03-09 17:19:18,958]\u001b[0m Trial 36 finished with value: 0.999959479372073 and parameters: {'model_type': 5, 'n_jobs': 5}. Best is trial 6 with value: 0.023809523809523808.\u001b[0m\n",
      "\u001b[32m[I 2023-03-09 17:19:18,971]\u001b[0m Trial 37 finished with value: 0.03571428571428571 and parameters: {'model_type': 3, 'alpha_bayes': 0.9306823285851344}. Best is trial 6 with value: 0.023809523809523808.\u001b[0m\n",
      "\u001b[32m[I 2023-03-09 17:19:18,977]\u001b[0m Trial 38 finished with value: 0.999959479372073 and parameters: {'model_type': 5, 'n_jobs': 15}. Best is trial 6 with value: 0.023809523809523808.\u001b[0m\n",
      "\u001b[32m[I 2023-03-09 17:19:18,983]\u001b[0m Trial 39 finished with value: 0.999959479372073 and parameters: {'model_type': 5, 'n_jobs': 13}. Best is trial 6 with value: 0.023809523809523808.\u001b[0m\n",
      "\u001b[32m[I 2023-03-09 17:19:19,266]\u001b[0m Trial 40 finished with value: 0.04365079365079365 and parameters: {'model_type': 2, 'c_svm': 0.7737686158955575, 'kernel_svm': 'rbf', 'gamma_svm': 'scale', 'degree_svm': 3}. Best is trial 6 with value: 0.023809523809523808.\u001b[0m\n",
      "\u001b[32m[I 2023-03-09 17:19:19,296]\u001b[0m Trial 41 finished with value: 0.03571428571428571 and parameters: {'model_type': 1, 'k_neighbours': 285, 'dist_neighbours': 'minkowski', 'weights_neighbours': 'uniform', 'algorithm_neighbours': 'ball_tree'}. Best is trial 6 with value: 0.023809523809523808.\u001b[0m\n",
      "\u001b[32m[I 2023-03-09 17:19:19,492]\u001b[0m Trial 42 finished with value: 0.04365079365079365 and parameters: {'model_type': 2, 'c_svm': 0.7232615566425814, 'kernel_svm': 'linear', 'gamma_svm': 'scale', 'degree_svm': 1}. Best is trial 6 with value: 0.023809523809523808.\u001b[0m\n",
      "\u001b[32m[I 2023-03-09 17:19:19,519]\u001b[0m Trial 43 finished with value: 0.09523809523809523 and parameters: {'model_type': 4, 'criterion_trees': 'entropy', 'max_depth_trees': 5, 'min_samples_split_trees': 16, 'min_samples_leaf_trees': 11, 'suggest_categorical': 'sqrt'}. Best is trial 6 with value: 0.023809523809523808.\u001b[0m\n",
      "\u001b[32m[I 2023-03-09 17:19:19,714]\u001b[0m Trial 44 finished with value: 0.10714285714285714 and parameters: {'model_type': 2, 'c_svm': 0.9121287973611778, 'kernel_svm': 'poly', 'gamma_svm': 'scale', 'degree_svm': 5}. Best is trial 6 with value: 0.023809523809523808.\u001b[0m\n",
      "\u001b[32m[I 2023-03-09 17:19:19,722]\u001b[0m Trial 45 finished with value: 0.1388888888888889 and parameters: {'model_type': 4, 'criterion_trees': 'gini', 'max_depth_trees': 5, 'min_samples_split_trees': 1, 'min_samples_leaf_trees': 8, 'suggest_categorical': 'log2'}. Best is trial 6 with value: 0.023809523809523808.\u001b[0m\n",
      "\u001b[32m[I 2023-03-09 17:19:19,733]\u001b[0m Trial 46 finished with value: 0.23015873015873015 and parameters: {'model_type': 4, 'criterion_trees': 'entropy', 'max_depth_trees': 9, 'min_samples_split_trees': 18, 'min_samples_leaf_trees': 12, 'suggest_categorical': 'log2'}. Best is trial 6 with value: 0.023809523809523808.\u001b[0m\n",
      "\u001b[32m[I 2023-03-09 17:19:19,772]\u001b[0m Trial 47 finished with value: 0.023809523809523808 and parameters: {'model_type': 1, 'k_neighbours': 399, 'dist_neighbours': 'minkowski', 'weights_neighbours': 'uniform', 'algorithm_neighbours': 'kd_tree'}. Best is trial 6 with value: 0.023809523809523808.\u001b[0m\n",
      "\u001b[32m[I 2023-03-09 17:19:19,779]\u001b[0m Trial 48 finished with value: 0.999959479372073 and parameters: {'model_type': 5, 'n_jobs': 12}. Best is trial 6 with value: 0.023809523809523808.\u001b[0m\n",
      "\u001b[32m[I 2023-03-09 17:19:19,788]\u001b[0m Trial 49 finished with value: 0.999959479372073 and parameters: {'model_type': 5, 'n_jobs': 8}. Best is trial 6 with value: 0.023809523809523808.\u001b[0m\n",
      "\u001b[32m[I 2023-03-09 17:19:19,794]\u001b[0m Trial 50 finished with value: 0.999959479372073 and parameters: {'model_type': 5, 'n_jobs': 4}. Best is trial 6 with value: 0.023809523809523808.\u001b[0m\n",
      "\u001b[32m[I 2023-03-09 17:19:19,834]\u001b[0m Trial 51 finished with value: 0.04365079365079365 and parameters: {'model_type': 1, 'k_neighbours': 185, 'dist_neighbours': 'manhattan', 'weights_neighbours': 'uniform', 'algorithm_neighbours': 'brute'}. Best is trial 6 with value: 0.023809523809523808.\u001b[0m\n",
      "\u001b[32m[I 2023-03-09 17:19:19,842]\u001b[0m Trial 52 finished with value: 0.1111111111111111 and parameters: {'model_type': 4, 'criterion_trees': 'gini', 'max_depth_trees': 4, 'min_samples_split_trees': 18, 'min_samples_leaf_trees': 6, 'suggest_categorical': 'sqrt'}. Best is trial 6 with value: 0.023809523809523808.\u001b[0m\n",
      "\u001b[32m[I 2023-03-09 17:19:19,871]\u001b[0m Trial 53 finished with value: 0.04365079365079365 and parameters: {'model_type': 1, 'k_neighbours': 195, 'dist_neighbours': 'manhattan', 'weights_neighbours': 'uniform', 'algorithm_neighbours': 'auto'}. Best is trial 6 with value: 0.023809523809523808.\u001b[0m\n",
      "\u001b[32m[I 2023-03-09 17:19:19,878]\u001b[0m Trial 54 finished with value: 0.03968253968253968 and parameters: {'model_type': 4, 'criterion_trees': 'gini', 'max_depth_trees': 2, 'min_samples_split_trees': 5, 'min_samples_leaf_trees': 4, 'suggest_categorical': 'log2'}. Best is trial 6 with value: 0.023809523809523808.\u001b[0m\n",
      "\u001b[32m[I 2023-03-09 17:19:19,885]\u001b[0m Trial 55 finished with value: 0.999959479372073 and parameters: {'model_type': 5, 'n_jobs': 6}. Best is trial 6 with value: 0.023809523809523808.\u001b[0m\n",
      "\u001b[32m[I 2023-03-09 17:19:19,888]\u001b[0m Trial 56 finished with value: 0.999959479372073 and parameters: {'model_type': 5, 'n_jobs': 20}. Best is trial 6 with value: 0.023809523809523808.\u001b[0m\n",
      "\u001b[32m[I 2023-03-09 17:19:19,893]\u001b[0m Trial 57 finished with value: 0.03571428571428571 and parameters: {'model_type': 3, 'alpha_bayes': 0.7720260335247354}. Best is trial 6 with value: 0.023809523809523808.\u001b[0m\n",
      "\u001b[32m[I 2023-03-09 17:19:20,150]\u001b[0m Trial 58 finished with value: 0.023809523809523808 and parameters: {'model_type': 2, 'c_svm': 0.7456769529338261, 'kernel_svm': 'rbf', 'gamma_svm': 'auto', 'degree_svm': 4}. Best is trial 6 with value: 0.023809523809523808.\u001b[0m\n",
      "\u001b[32m[I 2023-03-09 17:19:20,177]\u001b[0m Trial 59 finished with value: 0.1746031746031746 and parameters: {'model_type': 1, 'k_neighbours': 107, 'dist_neighbours': 'euclidean', 'weights_neighbours': 'distance', 'algorithm_neighbours': 'kd_tree'}. Best is trial 6 with value: 0.023809523809523808.\u001b[0m\n",
      "\u001b[32m[I 2023-03-09 17:19:20,427]\u001b[0m Trial 60 finished with value: 0.023809523809523808 and parameters: {'model_type': 2, 'c_svm': 0.7348668173460161, 'kernel_svm': 'rbf', 'gamma_svm': 'auto', 'degree_svm': 4}. Best is trial 6 with value: 0.023809523809523808.\u001b[0m\n",
      "\u001b[32m[I 2023-03-09 17:19:20,433]\u001b[0m Trial 61 finished with value: 0.999959479372073 and parameters: {'model_type': 5, 'n_jobs': 2}. Best is trial 6 with value: 0.023809523809523808.\u001b[0m\n",
      "\u001b[32m[I 2023-03-09 17:19:20,438]\u001b[0m Trial 62 finished with value: 0.03571428571428571 and parameters: {'model_type': 3, 'alpha_bayes': 0.7633027922993033}. Best is trial 6 with value: 0.023809523809523808.\u001b[0m\n",
      "\u001b[32m[I 2023-03-09 17:19:20,443]\u001b[0m Trial 63 finished with value: 0.999959479372073 and parameters: {'model_type': 5, 'n_jobs': 2}. Best is trial 6 with value: 0.023809523809523808.\u001b[0m\n",
      "\u001b[32m[I 2023-03-09 17:19:20,637]\u001b[0m Trial 64 finished with value: 0.04365079365079365 and parameters: {'model_type': 2, 'c_svm': 0.7395797462541425, 'kernel_svm': 'linear', 'gamma_svm': 'scale', 'degree_svm': 4}. Best is trial 6 with value: 0.023809523809523808.\u001b[0m\n",
      "\u001b[32m[I 2023-03-09 17:19:20,641]\u001b[0m Trial 65 finished with value: 0.03968253968253968 and parameters: {'model_type': 3, 'alpha_bayes': 0.3899550279707802}. Best is trial 6 with value: 0.023809523809523808.\u001b[0m\n",
      "\u001b[32m[I 2023-03-09 17:19:20,646]\u001b[0m Trial 66 finished with value: 0.023809523809523808 and parameters: {'model_type': 4, 'criterion_trees': 'gini', 'max_depth_trees': 1, 'min_samples_split_trees': 1, 'min_samples_leaf_trees': 6, 'suggest_categorical': 'log2'}. Best is trial 6 with value: 0.023809523809523808.\u001b[0m\n",
      "\u001b[32m[I 2023-03-09 17:19:20,667]\u001b[0m Trial 67 finished with value: 0.1746031746031746 and parameters: {'model_type': 4, 'criterion_trees': 'entropy', 'max_depth_trees': 6, 'min_samples_split_trees': 8, 'min_samples_leaf_trees': 7, 'suggest_categorical': 'sqrt'}. Best is trial 6 with value: 0.023809523809523808.\u001b[0m\n",
      "c:\\Users\\nikolya\\AppData\\Local\\Programs\\Python\\Python310\\lib\\site-packages\\sklearn\\tree\\_classes.py:269: FutureWarning:\n",
      "\n",
      "`max_features='auto'` has been deprecated in 1.1 and will be removed in 1.3. To keep the past behaviour, explicitly set `max_features='sqrt'`.\n",
      "\n",
      "\u001b[32m[I 2023-03-09 17:19:20,687]\u001b[0m Trial 68 finished with value: 0.1746031746031746 and parameters: {'model_type': 4, 'criterion_trees': 'entropy', 'max_depth_trees': 5, 'min_samples_split_trees': 5, 'min_samples_leaf_trees': 8, 'suggest_categorical': 'auto'}. Best is trial 6 with value: 0.023809523809523808.\u001b[0m\n",
      "\u001b[32m[I 2023-03-09 17:19:20,690]\u001b[0m Trial 69 finished with value: 0.03571428571428571 and parameters: {'model_type': 3, 'alpha_bayes': 0.6315037719400741}. Best is trial 6 with value: 0.023809523809523808.\u001b[0m\n",
      "c:\\Users\\nikolya\\AppData\\Local\\Programs\\Python\\Python310\\lib\\site-packages\\sklearn\\tree\\_classes.py:269: FutureWarning:\n",
      "\n",
      "`max_features='auto'` has been deprecated in 1.1 and will be removed in 1.3. To keep the past behaviour, explicitly set `max_features='sqrt'`.\n",
      "\n",
      "\u001b[32m[I 2023-03-09 17:19:20,707]\u001b[0m Trial 70 finished with value: 0.1984126984126984 and parameters: {'model_type': 4, 'criterion_trees': 'entropy', 'max_depth_trees': 8, 'min_samples_split_trees': 2, 'min_samples_leaf_trees': 11, 'suggest_categorical': 'auto'}. Best is trial 6 with value: 0.023809523809523808.\u001b[0m\n",
      "\u001b[32m[I 2023-03-09 17:19:20,714]\u001b[0m Trial 71 finished with value: 0.03968253968253968 and parameters: {'model_type': 3, 'alpha_bayes': 0.10165936875248563}. Best is trial 6 with value: 0.023809523809523808.\u001b[0m\n",
      "\u001b[32m[I 2023-03-09 17:19:20,886]\u001b[0m Trial 72 finished with value: 0.023809523809523808 and parameters: {'model_type': 2, 'c_svm': 0.7429802549922586, 'kernel_svm': 'sigmoid', 'gamma_svm': 'auto', 'degree_svm': 2}. Best is trial 6 with value: 0.023809523809523808.\u001b[0m\n",
      "\u001b[32m[I 2023-03-09 17:19:20,890]\u001b[0m Trial 73 finished with value: 0.03571428571428571 and parameters: {'model_type': 3, 'alpha_bayes': 0.8541462133743059}. Best is trial 6 with value: 0.023809523809523808.\u001b[0m\n",
      "\u001b[32m[I 2023-03-09 17:19:20,931]\u001b[0m Trial 74 finished with value: 0.03571428571428571 and parameters: {'model_type': 1, 'k_neighbours': 255, 'dist_neighbours': 'euclidean', 'weights_neighbours': 'uniform', 'algorithm_neighbours': 'brute'}. Best is trial 6 with value: 0.023809523809523808.\u001b[0m\n",
      "\u001b[32m[I 2023-03-09 17:19:20,959]\u001b[0m Trial 75 finished with value: 0.04365079365079365 and parameters: {'model_type': 1, 'k_neighbours': 209, 'dist_neighbours': 'manhattan', 'weights_neighbours': 'uniform', 'algorithm_neighbours': 'kd_tree'}. Best is trial 6 with value: 0.023809523809523808.\u001b[0m\n",
      "\u001b[32m[I 2023-03-09 17:19:20,967]\u001b[0m Trial 76 finished with value: 0.03968253968253968 and parameters: {'model_type': 3, 'alpha_bayes': 0.31643596863451273}. Best is trial 6 with value: 0.023809523809523808.\u001b[0m\n",
      "\u001b[32m[I 2023-03-09 17:19:21,009]\u001b[0m Trial 77 finished with value: 0.03968253968253968 and parameters: {'model_type': 3, 'alpha_bayes': 0.44131190953958277}. Best is trial 6 with value: 0.023809523809523808.\u001b[0m\n",
      "\u001b[32m[I 2023-03-09 17:19:21,262]\u001b[0m Trial 78 finished with value: 0.051587301587301584 and parameters: {'model_type': 2, 'c_svm': 0.9778222555546252, 'kernel_svm': 'rbf', 'gamma_svm': 'scale', 'degree_svm': 5}. Best is trial 6 with value: 0.023809523809523808.\u001b[0m\n",
      "\u001b[32m[I 2023-03-09 17:19:21,279]\u001b[0m Trial 79 finished with value: 0.11507936507936507 and parameters: {'model_type': 1, 'k_neighbours': 27, 'dist_neighbours': 'euclidean', 'weights_neighbours': 'uniform', 'algorithm_neighbours': 'kd_tree'}. Best is trial 6 with value: 0.023809523809523808.\u001b[0m\n",
      "c:\\Users\\nikolya\\AppData\\Local\\Programs\\Python\\Python310\\lib\\site-packages\\sklearn\\tree\\_classes.py:269: FutureWarning:\n",
      "\n",
      "`max_features='auto'` has been deprecated in 1.1 and will be removed in 1.3. To keep the past behaviour, explicitly set `max_features='sqrt'`.\n",
      "\n",
      "\u001b[32m[I 2023-03-09 17:19:21,287]\u001b[0m Trial 80 finished with value: 0.12301587301587301 and parameters: {'model_type': 4, 'criterion_trees': 'gini', 'max_depth_trees': 9, 'min_samples_split_trees': 7, 'min_samples_leaf_trees': 11, 'suggest_categorical': 'auto'}. Best is trial 6 with value: 0.023809523809523808.\u001b[0m\n",
      "\u001b[32m[I 2023-03-09 17:19:21,317]\u001b[0m Trial 81 finished with value: 0.03571428571428571 and parameters: {'model_type': 1, 'k_neighbours': 305, 'dist_neighbours': 'euclidean', 'weights_neighbours': 'uniform', 'algorithm_neighbours': 'ball_tree'}. Best is trial 6 with value: 0.023809523809523808.\u001b[0m\n",
      "\u001b[32m[I 2023-03-09 17:19:21,348]\u001b[0m Trial 82 finished with value: 0.03968253968253968 and parameters: {'model_type': 1, 'k_neighbours': 221, 'dist_neighbours': 'euclidean', 'weights_neighbours': 'uniform', 'algorithm_neighbours': 'kd_tree'}. Best is trial 6 with value: 0.023809523809523808.\u001b[0m\n",
      "\u001b[32m[I 2023-03-09 17:19:21,358]\u001b[0m Trial 83 finished with value: 0.17063492063492064 and parameters: {'model_type': 4, 'criterion_trees': 'entropy', 'max_depth_trees': 7, 'min_samples_split_trees': 8, 'min_samples_leaf_trees': 12, 'suggest_categorical': 'sqrt'}. Best is trial 6 with value: 0.023809523809523808.\u001b[0m\n",
      "\u001b[32m[I 2023-03-09 17:19:21,449]\u001b[0m Trial 84 finished with value: 0.21825396825396826 and parameters: {'model_type': 1, 'k_neighbours': 317, 'dist_neighbours': 'manhattan', 'weights_neighbours': 'distance', 'algorithm_neighbours': 'brute'}. Best is trial 6 with value: 0.023809523809523808.\u001b[0m\n",
      "\u001b[32m[I 2023-03-09 17:19:21,534]\u001b[0m Trial 85 finished with value: 0.21825396825396826 and parameters: {'model_type': 1, 'k_neighbours': 277, 'dist_neighbours': 'manhattan', 'weights_neighbours': 'distance', 'algorithm_neighbours': 'brute'}. Best is trial 6 with value: 0.023809523809523808.\u001b[0m\n",
      "\u001b[32m[I 2023-03-09 17:19:21,541]\u001b[0m Trial 86 finished with value: 0.999959479372073 and parameters: {'model_type': 5, 'n_jobs': 16}. Best is trial 6 with value: 0.023809523809523808.\u001b[0m\n",
      "\u001b[32m[I 2023-03-09 17:19:21,547]\u001b[0m Trial 87 finished with value: 0.999959479372073 and parameters: {'model_type': 5, 'n_jobs': 10}. Best is trial 6 with value: 0.023809523809523808.\u001b[0m\n",
      "\u001b[32m[I 2023-03-09 17:19:21,556]\u001b[0m Trial 88 finished with value: 0.03571428571428571 and parameters: {'model_type': 3, 'alpha_bayes': 0.9702524275206369}. Best is trial 6 with value: 0.023809523809523808.\u001b[0m\n",
      "\u001b[32m[I 2023-03-09 17:19:21,731]\u001b[0m Trial 89 finished with value: 0.04365079365079365 and parameters: {'model_type': 2, 'c_svm': 0.8286326697118589, 'kernel_svm': 'linear', 'gamma_svm': 'scale', 'degree_svm': 3}. Best is trial 6 with value: 0.023809523809523808.\u001b[0m\n",
      "\u001b[32m[I 2023-03-09 17:19:21,736]\u001b[0m Trial 90 finished with value: 0.03571428571428571 and parameters: {'model_type': 3, 'alpha_bayes': 0.8958850896998306}. Best is trial 6 with value: 0.023809523809523808.\u001b[0m\n",
      "\u001b[32m[I 2023-03-09 17:19:21,742]\u001b[0m Trial 91 finished with value: 0.999959479372073 and parameters: {'model_type': 5, 'n_jobs': 20}. Best is trial 6 with value: 0.023809523809523808.\u001b[0m\n",
      "\u001b[32m[I 2023-03-09 17:19:21,769]\u001b[0m Trial 92 finished with value: 0.03571428571428571 and parameters: {'model_type': 1, 'k_neighbours': 239, 'dist_neighbours': 'manhattan', 'weights_neighbours': 'uniform', 'algorithm_neighbours': 'auto'}. Best is trial 6 with value: 0.023809523809523808.\u001b[0m\n",
      "c:\\Users\\nikolya\\AppData\\Local\\Programs\\Python\\Python310\\lib\\site-packages\\sklearn\\tree\\_classes.py:269: FutureWarning:\n",
      "\n",
      "`max_features='auto'` has been deprecated in 1.1 and will be removed in 1.3. To keep the past behaviour, explicitly set `max_features='sqrt'`.\n",
      "\n",
      "\u001b[32m[I 2023-03-09 17:19:21,776]\u001b[0m Trial 93 finished with value: 0.16666666666666666 and parameters: {'model_type': 4, 'criterion_trees': 'gini', 'max_depth_trees': 6, 'min_samples_split_trees': 11, 'min_samples_leaf_trees': 10, 'suggest_categorical': 'auto'}. Best is trial 6 with value: 0.023809523809523808.\u001b[0m\n",
      "\u001b[32m[I 2023-03-09 17:19:21,795]\u001b[0m Trial 94 finished with value: 0.03968253968253968 and parameters: {'model_type': 3, 'alpha_bayes': 0.3033215897440228}. Best is trial 6 with value: 0.023809523809523808.\u001b[0m\n",
      "c:\\Users\\nikolya\\AppData\\Local\\Programs\\Python\\Python310\\lib\\site-packages\\sklearn\\tree\\_classes.py:269: FutureWarning:\n",
      "\n",
      "`max_features='auto'` has been deprecated in 1.1 and will be removed in 1.3. To keep the past behaviour, explicitly set `max_features='sqrt'`.\n",
      "\n",
      "\u001b[32m[I 2023-03-09 17:19:21,813]\u001b[0m Trial 95 finished with value: 0.2619047619047619 and parameters: {'model_type': 4, 'criterion_trees': 'entropy', 'max_depth_trees': 9, 'min_samples_split_trees': 5, 'min_samples_leaf_trees': 7, 'suggest_categorical': 'auto'}. Best is trial 6 with value: 0.023809523809523808.\u001b[0m\n",
      "\u001b[32m[I 2023-03-09 17:19:21,822]\u001b[0m Trial 96 finished with value: 0.999959479372073 and parameters: {'model_type': 5, 'n_jobs': 18}. Best is trial 6 with value: 0.023809523809523808.\u001b[0m\n",
      "\u001b[32m[I 2023-03-09 17:19:21,836]\u001b[0m Trial 97 finished with value: 0.03968253968253968 and parameters: {'model_type': 3, 'alpha_bayes': 0.19560842013997098}. Best is trial 6 with value: 0.023809523809523808.\u001b[0m\n",
      "\u001b[32m[I 2023-03-09 17:19:22,036]\u001b[0m Trial 98 finished with value: 0.10317460317460317 and parameters: {'model_type': 2, 'c_svm': 0.8378917632611955, 'kernel_svm': 'poly', 'gamma_svm': 'scale', 'degree_svm': 5}. Best is trial 6 with value: 0.023809523809523808.\u001b[0m\n",
      "c:\\Users\\nikolya\\AppData\\Local\\Programs\\Python\\Python310\\lib\\site-packages\\sklearn\\tree\\_classes.py:269: FutureWarning:\n",
      "\n",
      "`max_features='auto'` has been deprecated in 1.1 and will be removed in 1.3. To keep the past behaviour, explicitly set `max_features='sqrt'`.\n",
      "\n",
      "\u001b[32m[I 2023-03-09 17:19:22,046]\u001b[0m Trial 99 finished with value: 0.04365079365079365 and parameters: {'model_type': 4, 'criterion_trees': 'entropy', 'max_depth_trees': 2, 'min_samples_split_trees': 14, 'min_samples_leaf_trees': 5, 'suggest_categorical': 'auto'}. Best is trial 6 with value: 0.023809523809523808.\u001b[0m\n"
     ]
    },
    {
     "name": "stdout",
     "output_type": "stream",
     "text": [
      "{'model_type': 2, 'c_svm': 0.8840155698790331, 'kernel_svm': 'rbf', 'gamma_svm': 'auto', 'degree_svm': 2}\n",
      "0.023809523809523808\n"
     ]
    }
   ],
   "source": [
    "studyWithRandomSampler = opt.create_study(direction=\"minimize\", sampler=opt.samplers.RandomSampler(), pruner=opt.pruners.MedianPruner())\n",
    "studyWithRandomSampler.optimize(objective, n_trials = 100)\n",
    "params = studyWithRandomSampler.best_params\n",
    "print(params)\n",
    "print(studyWithRandomSampler.best_value)\n",
    "\n",
    "best_model = choose_your_fighter(params)\n",
    "best_model.fit(train_x, train_y)\n",
    "prediction = best_model.predict(test_x)"
   ]
  },
  {
   "cell_type": "code",
   "execution_count": null,
   "metadata": {},
   "outputs": [
    {
     "data": {
      "application/vnd.plotly.v1+json": {
       "config": {
        "plotlyServerURL": "https://plot.ly"
       },
       "data": [
        {
         "mode": "markers",
         "name": "Objective Value",
         "type": "scatter",
         "x": [
          0,
          1,
          2,
          3,
          4,
          5,
          6,
          7,
          8,
          9,
          10,
          11,
          12,
          13,
          14,
          15,
          16,
          17,
          18,
          19,
          20,
          21,
          22,
          23,
          24,
          25,
          26,
          27,
          28,
          29,
          30,
          31,
          32,
          33,
          34,
          35,
          36,
          37,
          38,
          39,
          40,
          41,
          42,
          43,
          44,
          45,
          46,
          47,
          48,
          49
         ],
         "y": [
          0.047619047619047616,
          0.04365079365079365,
          0.04365079365079365,
          0.04365079365079365,
          0.04365079365079365,
          0.023809523809523808,
          0.21428571428571427,
          0.03968253968253968,
          0.023809523809523808,
          0.051587301587301584,
          0.03571428571428571,
          0.03571428571428571,
          0.17063492063492064,
          0.03571428571428571,
          0.999959479372073,
          0.04365079365079365,
          0.03571428571428571,
          0.999959479372073,
          0.023809523809523808,
          0.07142857142857142,
          0.21428571428571427,
          0.999959479372073,
          0.15476190476190477,
          0.999959479372073,
          0.26587301587301587,
          0.023809523809523808,
          0.17063492063492064,
          0.999959479372073,
          0.999959479372073,
          0.999959479372073,
          0.999959479372073,
          0.051587301587301584,
          0.20634920634920634,
          0.03571428571428571,
          0.04365079365079365,
          0.1349206349206349,
          0.999959479372073,
          0.03571428571428571,
          0.023809523809523808,
          0.23015873015873015,
          0.999959479372073,
          0.999959479372073,
          0.999959479372073,
          0.999959479372073,
          0.03571428571428571,
          0.999959479372073,
          0.023809523809523808,
          0.1746031746031746,
          0.04365079365079365,
          0.03968253968253968
         ]
        },
        {
         "name": "Best Value",
         "type": "scatter",
         "x": [
          0,
          1,
          2,
          3,
          4,
          5,
          6,
          7,
          8,
          9,
          10,
          11,
          12,
          13,
          14,
          15,
          16,
          17,
          18,
          19,
          20,
          21,
          22,
          23,
          24,
          25,
          26,
          27,
          28,
          29,
          30,
          31,
          32,
          33,
          34,
          35,
          36,
          37,
          38,
          39,
          40,
          41,
          42,
          43,
          44,
          45,
          46,
          47,
          48,
          49
         ],
         "y": [
          0.047619047619047616,
          0.04365079365079365,
          0.04365079365079365,
          0.04365079365079365,
          0.04365079365079365,
          0.023809523809523808,
          0.023809523809523808,
          0.023809523809523808,
          0.023809523809523808,
          0.023809523809523808,
          0.023809523809523808,
          0.023809523809523808,
          0.023809523809523808,
          0.023809523809523808,
          0.023809523809523808,
          0.023809523809523808,
          0.023809523809523808,
          0.023809523809523808,
          0.023809523809523808,
          0.023809523809523808,
          0.023809523809523808,
          0.023809523809523808,
          0.023809523809523808,
          0.023809523809523808,
          0.023809523809523808,
          0.023809523809523808,
          0.023809523809523808,
          0.023809523809523808,
          0.023809523809523808,
          0.023809523809523808,
          0.023809523809523808,
          0.023809523809523808,
          0.023809523809523808,
          0.023809523809523808,
          0.023809523809523808,
          0.023809523809523808,
          0.023809523809523808,
          0.023809523809523808,
          0.023809523809523808,
          0.023809523809523808,
          0.023809523809523808,
          0.023809523809523808,
          0.023809523809523808,
          0.023809523809523808,
          0.023809523809523808,
          0.023809523809523808,
          0.023809523809523808,
          0.023809523809523808,
          0.023809523809523808,
          0.023809523809523808
         ]
        }
       ],
       "layout": {
        "template": {
         "data": {
          "bar": [
           {
            "error_x": {
             "color": "#2a3f5f"
            },
            "error_y": {
             "color": "#2a3f5f"
            },
            "marker": {
             "line": {
              "color": "#E5ECF6",
              "width": 0.5
             },
             "pattern": {
              "fillmode": "overlay",
              "size": 10,
              "solidity": 0.2
             }
            },
            "type": "bar"
           }
          ],
          "barpolar": [
           {
            "marker": {
             "line": {
              "color": "#E5ECF6",
              "width": 0.5
             },
             "pattern": {
              "fillmode": "overlay",
              "size": 10,
              "solidity": 0.2
             }
            },
            "type": "barpolar"
           }
          ],
          "carpet": [
           {
            "aaxis": {
             "endlinecolor": "#2a3f5f",
             "gridcolor": "white",
             "linecolor": "white",
             "minorgridcolor": "white",
             "startlinecolor": "#2a3f5f"
            },
            "baxis": {
             "endlinecolor": "#2a3f5f",
             "gridcolor": "white",
             "linecolor": "white",
             "minorgridcolor": "white",
             "startlinecolor": "#2a3f5f"
            },
            "type": "carpet"
           }
          ],
          "choropleth": [
           {
            "colorbar": {
             "outlinewidth": 0,
             "ticks": ""
            },
            "type": "choropleth"
           }
          ],
          "contour": [
           {
            "colorbar": {
             "outlinewidth": 0,
             "ticks": ""
            },
            "colorscale": [
             [
              0,
              "#0d0887"
             ],
             [
              0.1111111111111111,
              "#46039f"
             ],
             [
              0.2222222222222222,
              "#7201a8"
             ],
             [
              0.3333333333333333,
              "#9c179e"
             ],
             [
              0.4444444444444444,
              "#bd3786"
             ],
             [
              0.5555555555555556,
              "#d8576b"
             ],
             [
              0.6666666666666666,
              "#ed7953"
             ],
             [
              0.7777777777777778,
              "#fb9f3a"
             ],
             [
              0.8888888888888888,
              "#fdca26"
             ],
             [
              1,
              "#f0f921"
             ]
            ],
            "type": "contour"
           }
          ],
          "contourcarpet": [
           {
            "colorbar": {
             "outlinewidth": 0,
             "ticks": ""
            },
            "type": "contourcarpet"
           }
          ],
          "heatmap": [
           {
            "colorbar": {
             "outlinewidth": 0,
             "ticks": ""
            },
            "colorscale": [
             [
              0,
              "#0d0887"
             ],
             [
              0.1111111111111111,
              "#46039f"
             ],
             [
              0.2222222222222222,
              "#7201a8"
             ],
             [
              0.3333333333333333,
              "#9c179e"
             ],
             [
              0.4444444444444444,
              "#bd3786"
             ],
             [
              0.5555555555555556,
              "#d8576b"
             ],
             [
              0.6666666666666666,
              "#ed7953"
             ],
             [
              0.7777777777777778,
              "#fb9f3a"
             ],
             [
              0.8888888888888888,
              "#fdca26"
             ],
             [
              1,
              "#f0f921"
             ]
            ],
            "type": "heatmap"
           }
          ],
          "heatmapgl": [
           {
            "colorbar": {
             "outlinewidth": 0,
             "ticks": ""
            },
            "colorscale": [
             [
              0,
              "#0d0887"
             ],
             [
              0.1111111111111111,
              "#46039f"
             ],
             [
              0.2222222222222222,
              "#7201a8"
             ],
             [
              0.3333333333333333,
              "#9c179e"
             ],
             [
              0.4444444444444444,
              "#bd3786"
             ],
             [
              0.5555555555555556,
              "#d8576b"
             ],
             [
              0.6666666666666666,
              "#ed7953"
             ],
             [
              0.7777777777777778,
              "#fb9f3a"
             ],
             [
              0.8888888888888888,
              "#fdca26"
             ],
             [
              1,
              "#f0f921"
             ]
            ],
            "type": "heatmapgl"
           }
          ],
          "histogram": [
           {
            "marker": {
             "pattern": {
              "fillmode": "overlay",
              "size": 10,
              "solidity": 0.2
             }
            },
            "type": "histogram"
           }
          ],
          "histogram2d": [
           {
            "colorbar": {
             "outlinewidth": 0,
             "ticks": ""
            },
            "colorscale": [
             [
              0,
              "#0d0887"
             ],
             [
              0.1111111111111111,
              "#46039f"
             ],
             [
              0.2222222222222222,
              "#7201a8"
             ],
             [
              0.3333333333333333,
              "#9c179e"
             ],
             [
              0.4444444444444444,
              "#bd3786"
             ],
             [
              0.5555555555555556,
              "#d8576b"
             ],
             [
              0.6666666666666666,
              "#ed7953"
             ],
             [
              0.7777777777777778,
              "#fb9f3a"
             ],
             [
              0.8888888888888888,
              "#fdca26"
             ],
             [
              1,
              "#f0f921"
             ]
            ],
            "type": "histogram2d"
           }
          ],
          "histogram2dcontour": [
           {
            "colorbar": {
             "outlinewidth": 0,
             "ticks": ""
            },
            "colorscale": [
             [
              0,
              "#0d0887"
             ],
             [
              0.1111111111111111,
              "#46039f"
             ],
             [
              0.2222222222222222,
              "#7201a8"
             ],
             [
              0.3333333333333333,
              "#9c179e"
             ],
             [
              0.4444444444444444,
              "#bd3786"
             ],
             [
              0.5555555555555556,
              "#d8576b"
             ],
             [
              0.6666666666666666,
              "#ed7953"
             ],
             [
              0.7777777777777778,
              "#fb9f3a"
             ],
             [
              0.8888888888888888,
              "#fdca26"
             ],
             [
              1,
              "#f0f921"
             ]
            ],
            "type": "histogram2dcontour"
           }
          ],
          "mesh3d": [
           {
            "colorbar": {
             "outlinewidth": 0,
             "ticks": ""
            },
            "type": "mesh3d"
           }
          ],
          "parcoords": [
           {
            "line": {
             "colorbar": {
              "outlinewidth": 0,
              "ticks": ""
             }
            },
            "type": "parcoords"
           }
          ],
          "pie": [
           {
            "automargin": true,
            "type": "pie"
           }
          ],
          "scatter": [
           {
            "fillpattern": {
             "fillmode": "overlay",
             "size": 10,
             "solidity": 0.2
            },
            "type": "scatter"
           }
          ],
          "scatter3d": [
           {
            "line": {
             "colorbar": {
              "outlinewidth": 0,
              "ticks": ""
             }
            },
            "marker": {
             "colorbar": {
              "outlinewidth": 0,
              "ticks": ""
             }
            },
            "type": "scatter3d"
           }
          ],
          "scattercarpet": [
           {
            "marker": {
             "colorbar": {
              "outlinewidth": 0,
              "ticks": ""
             }
            },
            "type": "scattercarpet"
           }
          ],
          "scattergeo": [
           {
            "marker": {
             "colorbar": {
              "outlinewidth": 0,
              "ticks": ""
             }
            },
            "type": "scattergeo"
           }
          ],
          "scattergl": [
           {
            "marker": {
             "colorbar": {
              "outlinewidth": 0,
              "ticks": ""
             }
            },
            "type": "scattergl"
           }
          ],
          "scattermapbox": [
           {
            "marker": {
             "colorbar": {
              "outlinewidth": 0,
              "ticks": ""
             }
            },
            "type": "scattermapbox"
           }
          ],
          "scatterpolar": [
           {
            "marker": {
             "colorbar": {
              "outlinewidth": 0,
              "ticks": ""
             }
            },
            "type": "scatterpolar"
           }
          ],
          "scatterpolargl": [
           {
            "marker": {
             "colorbar": {
              "outlinewidth": 0,
              "ticks": ""
             }
            },
            "type": "scatterpolargl"
           }
          ],
          "scatterternary": [
           {
            "marker": {
             "colorbar": {
              "outlinewidth": 0,
              "ticks": ""
             }
            },
            "type": "scatterternary"
           }
          ],
          "surface": [
           {
            "colorbar": {
             "outlinewidth": 0,
             "ticks": ""
            },
            "colorscale": [
             [
              0,
              "#0d0887"
             ],
             [
              0.1111111111111111,
              "#46039f"
             ],
             [
              0.2222222222222222,
              "#7201a8"
             ],
             [
              0.3333333333333333,
              "#9c179e"
             ],
             [
              0.4444444444444444,
              "#bd3786"
             ],
             [
              0.5555555555555556,
              "#d8576b"
             ],
             [
              0.6666666666666666,
              "#ed7953"
             ],
             [
              0.7777777777777778,
              "#fb9f3a"
             ],
             [
              0.8888888888888888,
              "#fdca26"
             ],
             [
              1,
              "#f0f921"
             ]
            ],
            "type": "surface"
           }
          ],
          "table": [
           {
            "cells": {
             "fill": {
              "color": "#EBF0F8"
             },
             "line": {
              "color": "white"
             }
            },
            "header": {
             "fill": {
              "color": "#C8D4E3"
             },
             "line": {
              "color": "white"
             }
            },
            "type": "table"
           }
          ]
         },
         "layout": {
          "annotationdefaults": {
           "arrowcolor": "#2a3f5f",
           "arrowhead": 0,
           "arrowwidth": 1
          },
          "autotypenumbers": "strict",
          "coloraxis": {
           "colorbar": {
            "outlinewidth": 0,
            "ticks": ""
           }
          },
          "colorscale": {
           "diverging": [
            [
             0,
             "#8e0152"
            ],
            [
             0.1,
             "#c51b7d"
            ],
            [
             0.2,
             "#de77ae"
            ],
            [
             0.3,
             "#f1b6da"
            ],
            [
             0.4,
             "#fde0ef"
            ],
            [
             0.5,
             "#f7f7f7"
            ],
            [
             0.6,
             "#e6f5d0"
            ],
            [
             0.7,
             "#b8e186"
            ],
            [
             0.8,
             "#7fbc41"
            ],
            [
             0.9,
             "#4d9221"
            ],
            [
             1,
             "#276419"
            ]
           ],
           "sequential": [
            [
             0,
             "#0d0887"
            ],
            [
             0.1111111111111111,
             "#46039f"
            ],
            [
             0.2222222222222222,
             "#7201a8"
            ],
            [
             0.3333333333333333,
             "#9c179e"
            ],
            [
             0.4444444444444444,
             "#bd3786"
            ],
            [
             0.5555555555555556,
             "#d8576b"
            ],
            [
             0.6666666666666666,
             "#ed7953"
            ],
            [
             0.7777777777777778,
             "#fb9f3a"
            ],
            [
             0.8888888888888888,
             "#fdca26"
            ],
            [
             1,
             "#f0f921"
            ]
           ],
           "sequentialminus": [
            [
             0,
             "#0d0887"
            ],
            [
             0.1111111111111111,
             "#46039f"
            ],
            [
             0.2222222222222222,
             "#7201a8"
            ],
            [
             0.3333333333333333,
             "#9c179e"
            ],
            [
             0.4444444444444444,
             "#bd3786"
            ],
            [
             0.5555555555555556,
             "#d8576b"
            ],
            [
             0.6666666666666666,
             "#ed7953"
            ],
            [
             0.7777777777777778,
             "#fb9f3a"
            ],
            [
             0.8888888888888888,
             "#fdca26"
            ],
            [
             1,
             "#f0f921"
            ]
           ]
          },
          "colorway": [
           "#636efa",
           "#EF553B",
           "#00cc96",
           "#ab63fa",
           "#FFA15A",
           "#19d3f3",
           "#FF6692",
           "#B6E880",
           "#FF97FF",
           "#FECB52"
          ],
          "font": {
           "color": "#2a3f5f"
          },
          "geo": {
           "bgcolor": "white",
           "lakecolor": "white",
           "landcolor": "#E5ECF6",
           "showlakes": true,
           "showland": true,
           "subunitcolor": "white"
          },
          "hoverlabel": {
           "align": "left"
          },
          "hovermode": "closest",
          "mapbox": {
           "style": "light"
          },
          "paper_bgcolor": "white",
          "plot_bgcolor": "#E5ECF6",
          "polar": {
           "angularaxis": {
            "gridcolor": "white",
            "linecolor": "white",
            "ticks": ""
           },
           "bgcolor": "#E5ECF6",
           "radialaxis": {
            "gridcolor": "white",
            "linecolor": "white",
            "ticks": ""
           }
          },
          "scene": {
           "xaxis": {
            "backgroundcolor": "#E5ECF6",
            "gridcolor": "white",
            "gridwidth": 2,
            "linecolor": "white",
            "showbackground": true,
            "ticks": "",
            "zerolinecolor": "white"
           },
           "yaxis": {
            "backgroundcolor": "#E5ECF6",
            "gridcolor": "white",
            "gridwidth": 2,
            "linecolor": "white",
            "showbackground": true,
            "ticks": "",
            "zerolinecolor": "white"
           },
           "zaxis": {
            "backgroundcolor": "#E5ECF6",
            "gridcolor": "white",
            "gridwidth": 2,
            "linecolor": "white",
            "showbackground": true,
            "ticks": "",
            "zerolinecolor": "white"
           }
          },
          "shapedefaults": {
           "line": {
            "color": "#2a3f5f"
           }
          },
          "ternary": {
           "aaxis": {
            "gridcolor": "white",
            "linecolor": "white",
            "ticks": ""
           },
           "baxis": {
            "gridcolor": "white",
            "linecolor": "white",
            "ticks": ""
           },
           "bgcolor": "#E5ECF6",
           "caxis": {
            "gridcolor": "white",
            "linecolor": "white",
            "ticks": ""
           }
          },
          "title": {
           "x": 0.05
          },
          "xaxis": {
           "automargin": true,
           "gridcolor": "white",
           "linecolor": "white",
           "ticks": "",
           "title": {
            "standoff": 15
           },
           "zerolinecolor": "white",
           "zerolinewidth": 2
          },
          "yaxis": {
           "automargin": true,
           "gridcolor": "white",
           "linecolor": "white",
           "ticks": "",
           "title": {
            "standoff": 15
           },
           "zerolinecolor": "white",
           "zerolinewidth": 2
          }
         }
        },
        "title": {
         "text": "Optimization History Plot"
        },
        "xaxis": {
         "title": {
          "text": "Trial"
         }
        },
        "yaxis": {
         "title": {
          "text": "Objective Value"
         }
        }
       }
      }
     },
     "metadata": {},
     "output_type": "display_data"
    }
   ],
   "source": [
    "plot_optimization_history(studyWithRandomSampler).show()"
   ]
  },
  {
   "cell_type": "code",
   "execution_count": null,
   "metadata": {},
   "outputs": [
    {
     "data": {
      "application/vnd.plotly.v1+json": {
       "config": {
        "plotlyServerURL": "https://plot.ly"
       },
       "data": [
        {
         "cliponaxis": false,
         "hovertemplate": [
          "model_type (IntDistribution): 0.0<extra></extra>",
          "degree_svm (IntDistribution): 0.0028532954517532776<extra></extra>",
          "c_svm (FloatDistribution): 0.0503635795651074<extra></extra>",
          "gamma_svm (CategoricalDistribution): 0.3469960023722575<extra></extra>",
          "kernel_svm (CategoricalDistribution): 0.5997871226108819<extra></extra>"
         ],
         "marker": {
          "color": "rgb(66,146,198)"
         },
         "orientation": "h",
         "text": [
          "<0.01",
          "<0.01",
          "0.05",
          "0.35",
          "0.60"
         ],
         "textposition": "outside",
         "type": "bar",
         "x": [
          0,
          0.0028532954517532776,
          0.0503635795651074,
          0.3469960023722575,
          0.5997871226108819
         ],
         "y": [
          "model_type",
          "degree_svm",
          "c_svm",
          "gamma_svm",
          "kernel_svm"
         ]
        }
       ],
       "layout": {
        "showlegend": false,
        "template": {
         "data": {
          "bar": [
           {
            "error_x": {
             "color": "#2a3f5f"
            },
            "error_y": {
             "color": "#2a3f5f"
            },
            "marker": {
             "line": {
              "color": "#E5ECF6",
              "width": 0.5
             },
             "pattern": {
              "fillmode": "overlay",
              "size": 10,
              "solidity": 0.2
             }
            },
            "type": "bar"
           }
          ],
          "barpolar": [
           {
            "marker": {
             "line": {
              "color": "#E5ECF6",
              "width": 0.5
             },
             "pattern": {
              "fillmode": "overlay",
              "size": 10,
              "solidity": 0.2
             }
            },
            "type": "barpolar"
           }
          ],
          "carpet": [
           {
            "aaxis": {
             "endlinecolor": "#2a3f5f",
             "gridcolor": "white",
             "linecolor": "white",
             "minorgridcolor": "white",
             "startlinecolor": "#2a3f5f"
            },
            "baxis": {
             "endlinecolor": "#2a3f5f",
             "gridcolor": "white",
             "linecolor": "white",
             "minorgridcolor": "white",
             "startlinecolor": "#2a3f5f"
            },
            "type": "carpet"
           }
          ],
          "choropleth": [
           {
            "colorbar": {
             "outlinewidth": 0,
             "ticks": ""
            },
            "type": "choropleth"
           }
          ],
          "contour": [
           {
            "colorbar": {
             "outlinewidth": 0,
             "ticks": ""
            },
            "colorscale": [
             [
              0,
              "#0d0887"
             ],
             [
              0.1111111111111111,
              "#46039f"
             ],
             [
              0.2222222222222222,
              "#7201a8"
             ],
             [
              0.3333333333333333,
              "#9c179e"
             ],
             [
              0.4444444444444444,
              "#bd3786"
             ],
             [
              0.5555555555555556,
              "#d8576b"
             ],
             [
              0.6666666666666666,
              "#ed7953"
             ],
             [
              0.7777777777777778,
              "#fb9f3a"
             ],
             [
              0.8888888888888888,
              "#fdca26"
             ],
             [
              1,
              "#f0f921"
             ]
            ],
            "type": "contour"
           }
          ],
          "contourcarpet": [
           {
            "colorbar": {
             "outlinewidth": 0,
             "ticks": ""
            },
            "type": "contourcarpet"
           }
          ],
          "heatmap": [
           {
            "colorbar": {
             "outlinewidth": 0,
             "ticks": ""
            },
            "colorscale": [
             [
              0,
              "#0d0887"
             ],
             [
              0.1111111111111111,
              "#46039f"
             ],
             [
              0.2222222222222222,
              "#7201a8"
             ],
             [
              0.3333333333333333,
              "#9c179e"
             ],
             [
              0.4444444444444444,
              "#bd3786"
             ],
             [
              0.5555555555555556,
              "#d8576b"
             ],
             [
              0.6666666666666666,
              "#ed7953"
             ],
             [
              0.7777777777777778,
              "#fb9f3a"
             ],
             [
              0.8888888888888888,
              "#fdca26"
             ],
             [
              1,
              "#f0f921"
             ]
            ],
            "type": "heatmap"
           }
          ],
          "heatmapgl": [
           {
            "colorbar": {
             "outlinewidth": 0,
             "ticks": ""
            },
            "colorscale": [
             [
              0,
              "#0d0887"
             ],
             [
              0.1111111111111111,
              "#46039f"
             ],
             [
              0.2222222222222222,
              "#7201a8"
             ],
             [
              0.3333333333333333,
              "#9c179e"
             ],
             [
              0.4444444444444444,
              "#bd3786"
             ],
             [
              0.5555555555555556,
              "#d8576b"
             ],
             [
              0.6666666666666666,
              "#ed7953"
             ],
             [
              0.7777777777777778,
              "#fb9f3a"
             ],
             [
              0.8888888888888888,
              "#fdca26"
             ],
             [
              1,
              "#f0f921"
             ]
            ],
            "type": "heatmapgl"
           }
          ],
          "histogram": [
           {
            "marker": {
             "pattern": {
              "fillmode": "overlay",
              "size": 10,
              "solidity": 0.2
             }
            },
            "type": "histogram"
           }
          ],
          "histogram2d": [
           {
            "colorbar": {
             "outlinewidth": 0,
             "ticks": ""
            },
            "colorscale": [
             [
              0,
              "#0d0887"
             ],
             [
              0.1111111111111111,
              "#46039f"
             ],
             [
              0.2222222222222222,
              "#7201a8"
             ],
             [
              0.3333333333333333,
              "#9c179e"
             ],
             [
              0.4444444444444444,
              "#bd3786"
             ],
             [
              0.5555555555555556,
              "#d8576b"
             ],
             [
              0.6666666666666666,
              "#ed7953"
             ],
             [
              0.7777777777777778,
              "#fb9f3a"
             ],
             [
              0.8888888888888888,
              "#fdca26"
             ],
             [
              1,
              "#f0f921"
             ]
            ],
            "type": "histogram2d"
           }
          ],
          "histogram2dcontour": [
           {
            "colorbar": {
             "outlinewidth": 0,
             "ticks": ""
            },
            "colorscale": [
             [
              0,
              "#0d0887"
             ],
             [
              0.1111111111111111,
              "#46039f"
             ],
             [
              0.2222222222222222,
              "#7201a8"
             ],
             [
              0.3333333333333333,
              "#9c179e"
             ],
             [
              0.4444444444444444,
              "#bd3786"
             ],
             [
              0.5555555555555556,
              "#d8576b"
             ],
             [
              0.6666666666666666,
              "#ed7953"
             ],
             [
              0.7777777777777778,
              "#fb9f3a"
             ],
             [
              0.8888888888888888,
              "#fdca26"
             ],
             [
              1,
              "#f0f921"
             ]
            ],
            "type": "histogram2dcontour"
           }
          ],
          "mesh3d": [
           {
            "colorbar": {
             "outlinewidth": 0,
             "ticks": ""
            },
            "type": "mesh3d"
           }
          ],
          "parcoords": [
           {
            "line": {
             "colorbar": {
              "outlinewidth": 0,
              "ticks": ""
             }
            },
            "type": "parcoords"
           }
          ],
          "pie": [
           {
            "automargin": true,
            "type": "pie"
           }
          ],
          "scatter": [
           {
            "fillpattern": {
             "fillmode": "overlay",
             "size": 10,
             "solidity": 0.2
            },
            "type": "scatter"
           }
          ],
          "scatter3d": [
           {
            "line": {
             "colorbar": {
              "outlinewidth": 0,
              "ticks": ""
             }
            },
            "marker": {
             "colorbar": {
              "outlinewidth": 0,
              "ticks": ""
             }
            },
            "type": "scatter3d"
           }
          ],
          "scattercarpet": [
           {
            "marker": {
             "colorbar": {
              "outlinewidth": 0,
              "ticks": ""
             }
            },
            "type": "scattercarpet"
           }
          ],
          "scattergeo": [
           {
            "marker": {
             "colorbar": {
              "outlinewidth": 0,
              "ticks": ""
             }
            },
            "type": "scattergeo"
           }
          ],
          "scattergl": [
           {
            "marker": {
             "colorbar": {
              "outlinewidth": 0,
              "ticks": ""
             }
            },
            "type": "scattergl"
           }
          ],
          "scattermapbox": [
           {
            "marker": {
             "colorbar": {
              "outlinewidth": 0,
              "ticks": ""
             }
            },
            "type": "scattermapbox"
           }
          ],
          "scatterpolar": [
           {
            "marker": {
             "colorbar": {
              "outlinewidth": 0,
              "ticks": ""
             }
            },
            "type": "scatterpolar"
           }
          ],
          "scatterpolargl": [
           {
            "marker": {
             "colorbar": {
              "outlinewidth": 0,
              "ticks": ""
             }
            },
            "type": "scatterpolargl"
           }
          ],
          "scatterternary": [
           {
            "marker": {
             "colorbar": {
              "outlinewidth": 0,
              "ticks": ""
             }
            },
            "type": "scatterternary"
           }
          ],
          "surface": [
           {
            "colorbar": {
             "outlinewidth": 0,
             "ticks": ""
            },
            "colorscale": [
             [
              0,
              "#0d0887"
             ],
             [
              0.1111111111111111,
              "#46039f"
             ],
             [
              0.2222222222222222,
              "#7201a8"
             ],
             [
              0.3333333333333333,
              "#9c179e"
             ],
             [
              0.4444444444444444,
              "#bd3786"
             ],
             [
              0.5555555555555556,
              "#d8576b"
             ],
             [
              0.6666666666666666,
              "#ed7953"
             ],
             [
              0.7777777777777778,
              "#fb9f3a"
             ],
             [
              0.8888888888888888,
              "#fdca26"
             ],
             [
              1,
              "#f0f921"
             ]
            ],
            "type": "surface"
           }
          ],
          "table": [
           {
            "cells": {
             "fill": {
              "color": "#EBF0F8"
             },
             "line": {
              "color": "white"
             }
            },
            "header": {
             "fill": {
              "color": "#C8D4E3"
             },
             "line": {
              "color": "white"
             }
            },
            "type": "table"
           }
          ]
         },
         "layout": {
          "annotationdefaults": {
           "arrowcolor": "#2a3f5f",
           "arrowhead": 0,
           "arrowwidth": 1
          },
          "autotypenumbers": "strict",
          "coloraxis": {
           "colorbar": {
            "outlinewidth": 0,
            "ticks": ""
           }
          },
          "colorscale": {
           "diverging": [
            [
             0,
             "#8e0152"
            ],
            [
             0.1,
             "#c51b7d"
            ],
            [
             0.2,
             "#de77ae"
            ],
            [
             0.3,
             "#f1b6da"
            ],
            [
             0.4,
             "#fde0ef"
            ],
            [
             0.5,
             "#f7f7f7"
            ],
            [
             0.6,
             "#e6f5d0"
            ],
            [
             0.7,
             "#b8e186"
            ],
            [
             0.8,
             "#7fbc41"
            ],
            [
             0.9,
             "#4d9221"
            ],
            [
             1,
             "#276419"
            ]
           ],
           "sequential": [
            [
             0,
             "#0d0887"
            ],
            [
             0.1111111111111111,
             "#46039f"
            ],
            [
             0.2222222222222222,
             "#7201a8"
            ],
            [
             0.3333333333333333,
             "#9c179e"
            ],
            [
             0.4444444444444444,
             "#bd3786"
            ],
            [
             0.5555555555555556,
             "#d8576b"
            ],
            [
             0.6666666666666666,
             "#ed7953"
            ],
            [
             0.7777777777777778,
             "#fb9f3a"
            ],
            [
             0.8888888888888888,
             "#fdca26"
            ],
            [
             1,
             "#f0f921"
            ]
           ],
           "sequentialminus": [
            [
             0,
             "#0d0887"
            ],
            [
             0.1111111111111111,
             "#46039f"
            ],
            [
             0.2222222222222222,
             "#7201a8"
            ],
            [
             0.3333333333333333,
             "#9c179e"
            ],
            [
             0.4444444444444444,
             "#bd3786"
            ],
            [
             0.5555555555555556,
             "#d8576b"
            ],
            [
             0.6666666666666666,
             "#ed7953"
            ],
            [
             0.7777777777777778,
             "#fb9f3a"
            ],
            [
             0.8888888888888888,
             "#fdca26"
            ],
            [
             1,
             "#f0f921"
            ]
           ]
          },
          "colorway": [
           "#636efa",
           "#EF553B",
           "#00cc96",
           "#ab63fa",
           "#FFA15A",
           "#19d3f3",
           "#FF6692",
           "#B6E880",
           "#FF97FF",
           "#FECB52"
          ],
          "font": {
           "color": "#2a3f5f"
          },
          "geo": {
           "bgcolor": "white",
           "lakecolor": "white",
           "landcolor": "#E5ECF6",
           "showlakes": true,
           "showland": true,
           "subunitcolor": "white"
          },
          "hoverlabel": {
           "align": "left"
          },
          "hovermode": "closest",
          "mapbox": {
           "style": "light"
          },
          "paper_bgcolor": "white",
          "plot_bgcolor": "#E5ECF6",
          "polar": {
           "angularaxis": {
            "gridcolor": "white",
            "linecolor": "white",
            "ticks": ""
           },
           "bgcolor": "#E5ECF6",
           "radialaxis": {
            "gridcolor": "white",
            "linecolor": "white",
            "ticks": ""
           }
          },
          "scene": {
           "xaxis": {
            "backgroundcolor": "#E5ECF6",
            "gridcolor": "white",
            "gridwidth": 2,
            "linecolor": "white",
            "showbackground": true,
            "ticks": "",
            "zerolinecolor": "white"
           },
           "yaxis": {
            "backgroundcolor": "#E5ECF6",
            "gridcolor": "white",
            "gridwidth": 2,
            "linecolor": "white",
            "showbackground": true,
            "ticks": "",
            "zerolinecolor": "white"
           },
           "zaxis": {
            "backgroundcolor": "#E5ECF6",
            "gridcolor": "white",
            "gridwidth": 2,
            "linecolor": "white",
            "showbackground": true,
            "ticks": "",
            "zerolinecolor": "white"
           }
          },
          "shapedefaults": {
           "line": {
            "color": "#2a3f5f"
           }
          },
          "ternary": {
           "aaxis": {
            "gridcolor": "white",
            "linecolor": "white",
            "ticks": ""
           },
           "baxis": {
            "gridcolor": "white",
            "linecolor": "white",
            "ticks": ""
           },
           "bgcolor": "#E5ECF6",
           "caxis": {
            "gridcolor": "white",
            "linecolor": "white",
            "ticks": ""
           }
          },
          "title": {
           "x": 0.05
          },
          "xaxis": {
           "automargin": true,
           "gridcolor": "white",
           "linecolor": "white",
           "ticks": "",
           "title": {
            "standoff": 15
           },
           "zerolinecolor": "white",
           "zerolinewidth": 2
          },
          "yaxis": {
           "automargin": true,
           "gridcolor": "white",
           "linecolor": "white",
           "ticks": "",
           "title": {
            "standoff": 15
           },
           "zerolinecolor": "white",
           "zerolinewidth": 2
          }
         }
        },
        "title": {
         "text": "Hyperparameter Importances"
        },
        "xaxis": {
         "title": {
          "text": "Importance for Objective Value"
         }
        },
        "yaxis": {
         "title": {
          "text": "Hyperparameter"
         }
        }
       }
      }
     },
     "metadata": {},
     "output_type": "display_data"
    }
   ],
   "source": [
    "plot_param_importances(studyWithRandomSampler, params=list(studyWithRandomSampler.best_params.keys())).show()"
   ]
  },
  {
   "cell_type": "code",
   "execution_count": null,
   "metadata": {},
   "outputs": [],
   "source": [
    "# plt.figure(figsize=(20, 5))\n",
    "# plt.plot(test_y, label=\"Real\")\n",
    "# plt.plot(prediction, label=\"Prediction\")\n",
    "\n",
    "# plt.grid(True)\n",
    "# plt.axis('tight')\n",
    "# plt.legend(loc = \"best\", fontsize = 18)\n",
    "# plt.show()"
   ]
  }
 ],
 "metadata": {
  "kernelspec": {
   "display_name": "Python 3",
   "language": "python",
   "name": "python3"
  },
  "language_info": {
   "codemirror_mode": {
    "name": "ipython",
    "version": 3
   },
   "file_extension": ".py",
   "mimetype": "text/x-python",
   "name": "python",
   "nbconvert_exporter": "python",
   "pygments_lexer": "ipython3",
   "version": "3.10.5"
  },
  "orig_nbformat": 4,
  "vscode": {
   "interpreter": {
    "hash": "eaacb09bf59842ebb611e80ddb2fb8f918dc2d6ed11044e61313e066d6f0b7d0"
   }
  }
 },
 "nbformat": 4,
 "nbformat_minor": 2
}
